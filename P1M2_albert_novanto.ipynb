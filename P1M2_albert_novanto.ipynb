{
 "cells": [
  {
   "cell_type": "markdown",
   "metadata": {},
   "source": [
    "## 1. Introduction\n",
    "\n",
    "**Nama**: Albert Novanto P J\n",
    "\n",
    "**Batch**: HCK-015\n",
    "\n",
    "**Objective**: Notebook ini ditujukan untuk membuat model Classification menggunakan Logistic Regression, Model SVC, KNN, Decision Tree, Random Forest, dan XGBoost yang dapat memprediksi shipping yang NOT reached on time atau reached on time"
   ]
  },
  {
   "cell_type": "markdown",
   "metadata": {},
   "source": [
    "DATA SET FROM KAGGLE [HERE](https://www.kaggle.com/datasets/nayanack/shipping/data)"
   ]
  },
  {
   "cell_type": "markdown",
   "metadata": {},
   "source": [
    "## 2. Libraries"
   ]
  },
  {
   "cell_type": "code",
   "execution_count": 23,
   "metadata": {},
   "outputs": [],
   "source": [
    "# Import Library\n",
    "# Library Dataframe\n",
    "import pandas as pd\n",
    "\n",
    "# Library Numerical Data\n",
    "import numpy as np\n",
    "\n",
    "# Library Data Visualization\n",
    "import matplotlib.pyplot as plt\n",
    "import seaborn as sns\n",
    "\n",
    "# Libraries for Statistics\n",
    "from scipy import stats\n",
    "from scipy.stats import pearsonr, kendalltau, spearmanr, uniform, randint\n",
    "\n",
    "# Library Clustering\n",
    "from sklearn.decomposition import PCA\n",
    "from sklearn.cluster import KMeans\n",
    "import matplotlib.cm as cm\n",
    "from sklearn.metrics import silhouette_score,silhouette_samples\n",
    "from imblearn.over_sampling import SMOTE\n",
    "# Libraries for Modeling ML\n",
    "from sklearn.model_selection import train_test_split, RandomizedSearchCV, GridSearchCV, cross_val_score,KFold, StratifiedKFold\n",
    "from sklearn.preprocessing import OrdinalEncoder, LabelEncoder, MinMaxScaler, OneHotEncoder, StandardScaler\n",
    "from sklearn.linear_model import LinearRegression, LogisticRegression\n",
    "from sklearn.svm import SVC\n",
    "from sklearn.metrics import mean_absolute_error, roc_auc_score,mean_squared_error, root_mean_squared_error, r2_score, accuracy_score , classification_report , confusion_matrix,precision_score, recall_score, f1_score,ConfusionMatrixDisplay\n",
    "from sklearn.neighbors import KNeighborsClassifier\n",
    "from sklearn.ensemble import RandomForestClassifier\n",
    "from feature_engine.outliers import Winsorizer\n",
    "import statsmodels.api as sm\n",
    "from statsmodels.stats.stattools import durbin_watson\n",
    "from sklearn.metrics.pairwise import manhattan_distances\n",
    "from sklearn.tree import DecisionTreeClassifier\n",
    "\n",
    "# lib pipelines\n",
    "import xgboost as xgb\n",
    "from sklearn.pipeline import Pipeline,make_pipeline\n",
    "from sklearn.compose import ColumnTransformer\n",
    "# Model Saving\n",
    "import pickle\n",
    "import json\n",
    "import joblib\n",
    "\n",
    "import warnings\n",
    "\n",
    "# To ignore all warnings\n",
    "warnings.filterwarnings(\"ignore\")\n",
    "\n",
    "import string"
   ]
  },
  {
   "cell_type": "markdown",
   "metadata": {},
   "source": [
    "## 3. Data Loading"
   ]
  },
  {
   "cell_type": "markdown",
   "metadata": {},
   "source": [
    "### **Column Description**"
   ]
  },
  {
   "cell_type": "markdown",
   "metadata": {},
   "source": [
    "\n",
    "| Feature   | Description                                                                                                           |\n",
    "| ----------|-----------------------------------------------------------------------------------------------------------------------|\n",
    "| ID      | ID Number of Customers.|\n",
    "| Warehouse block       | The Company have big Warehouse which is divided in to block such as A,B,C,D,E.|\n",
    "| Mode of shipment       | The Company Ships the products in multiple way such as Ship, Flight and Road.|\n",
    "| Customer care calls      | The number of calls made from enquiry for enquiry of the shipment.\n",
    "| Customer rating      | The company has rated from every customer. 1 is the lowest (Worst), 5 is the highest (Best).\n",
    "| Cost of the product      | Cost of the Product in US Dollars.\n",
    "| Prior purchases     | The Number of Prior Purchase.\n",
    "| Product importance    | The company has categorized the product in the various parameter such as low, medium, high.\n",
    "| Gender    | Male and Female.| \n",
    "| Discount offered       | Discount offered on that specific product.|\n",
    "| Weight in gms   | It is the weight in grams.|\n",
    "| Reached on time      | It is the target variable, where 1 Indicates that the product has NOT reached on time and 0 indicates it has reached on time.\n"
   ]
  },
  {
   "cell_type": "markdown",
   "metadata": {},
   "source": [
    "**description** :\n",
    "\n",
    "from the column description, we can see that the data has some **categorical columns** and **numerical columns**"
   ]
  },
  {
   "cell_type": "code",
   "execution_count": 24,
   "metadata": {},
   "outputs": [
    {
     "data": {
      "text/html": [
       "<div>\n",
       "<style scoped>\n",
       "    .dataframe tbody tr th:only-of-type {\n",
       "        vertical-align: middle;\n",
       "    }\n",
       "\n",
       "    .dataframe tbody tr th {\n",
       "        vertical-align: top;\n",
       "    }\n",
       "\n",
       "    .dataframe thead th {\n",
       "        text-align: right;\n",
       "    }\n",
       "</style>\n",
       "<table border=\"1\" class=\"dataframe\">\n",
       "  <thead>\n",
       "    <tr style=\"text-align: right;\">\n",
       "      <th></th>\n",
       "      <th>ID</th>\n",
       "      <th>Warehouse_block</th>\n",
       "      <th>Mode_of_Shipment</th>\n",
       "      <th>Customer_care_calls</th>\n",
       "      <th>Customer_rating</th>\n",
       "      <th>Cost_of_the_Product</th>\n",
       "      <th>Prior_purchases</th>\n",
       "      <th>Product_importance</th>\n",
       "      <th>Gender</th>\n",
       "      <th>Discount_offered</th>\n",
       "      <th>Weight_in_gms</th>\n",
       "      <th>Reached.on.Time_Y.N</th>\n",
       "    </tr>\n",
       "  </thead>\n",
       "  <tbody>\n",
       "    <tr>\n",
       "      <th>0</th>\n",
       "      <td>1</td>\n",
       "      <td>D</td>\n",
       "      <td>Flight</td>\n",
       "      <td>4</td>\n",
       "      <td>2</td>\n",
       "      <td>177</td>\n",
       "      <td>3</td>\n",
       "      <td>low</td>\n",
       "      <td>F</td>\n",
       "      <td>44</td>\n",
       "      <td>1233</td>\n",
       "      <td>1</td>\n",
       "    </tr>\n",
       "    <tr>\n",
       "      <th>1</th>\n",
       "      <td>2</td>\n",
       "      <td>F</td>\n",
       "      <td>Flight</td>\n",
       "      <td>4</td>\n",
       "      <td>5</td>\n",
       "      <td>216</td>\n",
       "      <td>2</td>\n",
       "      <td>low</td>\n",
       "      <td>M</td>\n",
       "      <td>59</td>\n",
       "      <td>3088</td>\n",
       "      <td>1</td>\n",
       "    </tr>\n",
       "    <tr>\n",
       "      <th>2</th>\n",
       "      <td>3</td>\n",
       "      <td>A</td>\n",
       "      <td>Flight</td>\n",
       "      <td>2</td>\n",
       "      <td>2</td>\n",
       "      <td>183</td>\n",
       "      <td>4</td>\n",
       "      <td>low</td>\n",
       "      <td>M</td>\n",
       "      <td>48</td>\n",
       "      <td>3374</td>\n",
       "      <td>1</td>\n",
       "    </tr>\n",
       "    <tr>\n",
       "      <th>3</th>\n",
       "      <td>4</td>\n",
       "      <td>B</td>\n",
       "      <td>Flight</td>\n",
       "      <td>3</td>\n",
       "      <td>3</td>\n",
       "      <td>176</td>\n",
       "      <td>4</td>\n",
       "      <td>medium</td>\n",
       "      <td>M</td>\n",
       "      <td>10</td>\n",
       "      <td>1177</td>\n",
       "      <td>1</td>\n",
       "    </tr>\n",
       "    <tr>\n",
       "      <th>4</th>\n",
       "      <td>5</td>\n",
       "      <td>C</td>\n",
       "      <td>Flight</td>\n",
       "      <td>2</td>\n",
       "      <td>2</td>\n",
       "      <td>184</td>\n",
       "      <td>3</td>\n",
       "      <td>medium</td>\n",
       "      <td>F</td>\n",
       "      <td>46</td>\n",
       "      <td>2484</td>\n",
       "      <td>1</td>\n",
       "    </tr>\n",
       "    <tr>\n",
       "      <th>5</th>\n",
       "      <td>6</td>\n",
       "      <td>F</td>\n",
       "      <td>Flight</td>\n",
       "      <td>3</td>\n",
       "      <td>1</td>\n",
       "      <td>162</td>\n",
       "      <td>3</td>\n",
       "      <td>medium</td>\n",
       "      <td>F</td>\n",
       "      <td>12</td>\n",
       "      <td>1417</td>\n",
       "      <td>1</td>\n",
       "    </tr>\n",
       "    <tr>\n",
       "      <th>6</th>\n",
       "      <td>7</td>\n",
       "      <td>D</td>\n",
       "      <td>Flight</td>\n",
       "      <td>3</td>\n",
       "      <td>4</td>\n",
       "      <td>250</td>\n",
       "      <td>3</td>\n",
       "      <td>low</td>\n",
       "      <td>F</td>\n",
       "      <td>3</td>\n",
       "      <td>2371</td>\n",
       "      <td>1</td>\n",
       "    </tr>\n",
       "    <tr>\n",
       "      <th>7</th>\n",
       "      <td>8</td>\n",
       "      <td>F</td>\n",
       "      <td>Flight</td>\n",
       "      <td>4</td>\n",
       "      <td>1</td>\n",
       "      <td>233</td>\n",
       "      <td>2</td>\n",
       "      <td>low</td>\n",
       "      <td>F</td>\n",
       "      <td>48</td>\n",
       "      <td>2804</td>\n",
       "      <td>1</td>\n",
       "    </tr>\n",
       "    <tr>\n",
       "      <th>8</th>\n",
       "      <td>9</td>\n",
       "      <td>A</td>\n",
       "      <td>Flight</td>\n",
       "      <td>3</td>\n",
       "      <td>4</td>\n",
       "      <td>150</td>\n",
       "      <td>3</td>\n",
       "      <td>low</td>\n",
       "      <td>F</td>\n",
       "      <td>11</td>\n",
       "      <td>1861</td>\n",
       "      <td>1</td>\n",
       "    </tr>\n",
       "    <tr>\n",
       "      <th>9</th>\n",
       "      <td>10</td>\n",
       "      <td>B</td>\n",
       "      <td>Flight</td>\n",
       "      <td>3</td>\n",
       "      <td>2</td>\n",
       "      <td>164</td>\n",
       "      <td>3</td>\n",
       "      <td>medium</td>\n",
       "      <td>F</td>\n",
       "      <td>29</td>\n",
       "      <td>1187</td>\n",
       "      <td>1</td>\n",
       "    </tr>\n",
       "  </tbody>\n",
       "</table>\n",
       "</div>"
      ],
      "text/plain": [
       "   ID Warehouse_block Mode_of_Shipment  Customer_care_calls  Customer_rating  \\\n",
       "0   1               D           Flight                    4                2   \n",
       "1   2               F           Flight                    4                5   \n",
       "2   3               A           Flight                    2                2   \n",
       "3   4               B           Flight                    3                3   \n",
       "4   5               C           Flight                    2                2   \n",
       "5   6               F           Flight                    3                1   \n",
       "6   7               D           Flight                    3                4   \n",
       "7   8               F           Flight                    4                1   \n",
       "8   9               A           Flight                    3                4   \n",
       "9  10               B           Flight                    3                2   \n",
       "\n",
       "   Cost_of_the_Product  Prior_purchases Product_importance Gender  \\\n",
       "0                  177                3                low      F   \n",
       "1                  216                2                low      M   \n",
       "2                  183                4                low      M   \n",
       "3                  176                4             medium      M   \n",
       "4                  184                3             medium      F   \n",
       "5                  162                3             medium      F   \n",
       "6                  250                3                low      F   \n",
       "7                  233                2                low      F   \n",
       "8                  150                3                low      F   \n",
       "9                  164                3             medium      F   \n",
       "\n",
       "   Discount_offered  Weight_in_gms  Reached.on.Time_Y.N  \n",
       "0                44           1233                    1  \n",
       "1                59           3088                    1  \n",
       "2                48           3374                    1  \n",
       "3                10           1177                    1  \n",
       "4                46           2484                    1  \n",
       "5                12           1417                    1  \n",
       "6                 3           2371                    1  \n",
       "7                48           2804                    1  \n",
       "8                11           1861                    1  \n",
       "9                29           1187                    1  "
      ]
     },
     "execution_count": 24,
     "metadata": {},
     "output_type": "execute_result"
    }
   ],
   "source": [
    "# Make new dataset\n",
    "df = pd.read_csv('shipping.csv')\n",
    "# Show first 10 data\n",
    "df.head(10)"
   ]
  },
  {
   "cell_type": "markdown",
   "metadata": {},
   "source": [
    "**penjelasan** :\n",
    "\n",
    "menampilkan 10 data pertama"
   ]
  },
  {
   "cell_type": "code",
   "execution_count": 25,
   "metadata": {},
   "outputs": [
    {
     "data": {
      "text/html": [
       "<div>\n",
       "<style scoped>\n",
       "    .dataframe tbody tr th:only-of-type {\n",
       "        vertical-align: middle;\n",
       "    }\n",
       "\n",
       "    .dataframe tbody tr th {\n",
       "        vertical-align: top;\n",
       "    }\n",
       "\n",
       "    .dataframe thead th {\n",
       "        text-align: right;\n",
       "    }\n",
       "</style>\n",
       "<table border=\"1\" class=\"dataframe\">\n",
       "  <thead>\n",
       "    <tr style=\"text-align: right;\">\n",
       "      <th></th>\n",
       "      <th>ID</th>\n",
       "      <th>Warehouse_block</th>\n",
       "      <th>Mode_of_Shipment</th>\n",
       "      <th>Customer_care_calls</th>\n",
       "      <th>Customer_rating</th>\n",
       "      <th>Cost_of_the_Product</th>\n",
       "      <th>Prior_purchases</th>\n",
       "      <th>Product_importance</th>\n",
       "      <th>Gender</th>\n",
       "      <th>Discount_offered</th>\n",
       "      <th>Weight_in_gms</th>\n",
       "      <th>Reached.on.Time_Y.N</th>\n",
       "    </tr>\n",
       "  </thead>\n",
       "  <tbody>\n",
       "    <tr>\n",
       "      <th>10989</th>\n",
       "      <td>10990</td>\n",
       "      <td>B</td>\n",
       "      <td>Ship</td>\n",
       "      <td>5</td>\n",
       "      <td>1</td>\n",
       "      <td>218</td>\n",
       "      <td>5</td>\n",
       "      <td>medium</td>\n",
       "      <td>F</td>\n",
       "      <td>9</td>\n",
       "      <td>1603</td>\n",
       "      <td>0</td>\n",
       "    </tr>\n",
       "    <tr>\n",
       "      <th>10990</th>\n",
       "      <td>10991</td>\n",
       "      <td>C</td>\n",
       "      <td>Ship</td>\n",
       "      <td>5</td>\n",
       "      <td>4</td>\n",
       "      <td>219</td>\n",
       "      <td>6</td>\n",
       "      <td>low</td>\n",
       "      <td>M</td>\n",
       "      <td>3</td>\n",
       "      <td>1098</td>\n",
       "      <td>0</td>\n",
       "    </tr>\n",
       "    <tr>\n",
       "      <th>10991</th>\n",
       "      <td>10992</td>\n",
       "      <td>F</td>\n",
       "      <td>Ship</td>\n",
       "      <td>5</td>\n",
       "      <td>2</td>\n",
       "      <td>261</td>\n",
       "      <td>5</td>\n",
       "      <td>medium</td>\n",
       "      <td>M</td>\n",
       "      <td>9</td>\n",
       "      <td>1227</td>\n",
       "      <td>1</td>\n",
       "    </tr>\n",
       "    <tr>\n",
       "      <th>10992</th>\n",
       "      <td>10993</td>\n",
       "      <td>D</td>\n",
       "      <td>Ship</td>\n",
       "      <td>5</td>\n",
       "      <td>1</td>\n",
       "      <td>236</td>\n",
       "      <td>5</td>\n",
       "      <td>medium</td>\n",
       "      <td>M</td>\n",
       "      <td>3</td>\n",
       "      <td>1906</td>\n",
       "      <td>0</td>\n",
       "    </tr>\n",
       "    <tr>\n",
       "      <th>10993</th>\n",
       "      <td>10994</td>\n",
       "      <td>F</td>\n",
       "      <td>Ship</td>\n",
       "      <td>5</td>\n",
       "      <td>1</td>\n",
       "      <td>257</td>\n",
       "      <td>6</td>\n",
       "      <td>low</td>\n",
       "      <td>F</td>\n",
       "      <td>1</td>\n",
       "      <td>1150</td>\n",
       "      <td>0</td>\n",
       "    </tr>\n",
       "    <tr>\n",
       "      <th>10994</th>\n",
       "      <td>10995</td>\n",
       "      <td>A</td>\n",
       "      <td>Ship</td>\n",
       "      <td>4</td>\n",
       "      <td>1</td>\n",
       "      <td>252</td>\n",
       "      <td>5</td>\n",
       "      <td>medium</td>\n",
       "      <td>F</td>\n",
       "      <td>1</td>\n",
       "      <td>1538</td>\n",
       "      <td>1</td>\n",
       "    </tr>\n",
       "    <tr>\n",
       "      <th>10995</th>\n",
       "      <td>10996</td>\n",
       "      <td>B</td>\n",
       "      <td>Ship</td>\n",
       "      <td>4</td>\n",
       "      <td>1</td>\n",
       "      <td>232</td>\n",
       "      <td>5</td>\n",
       "      <td>medium</td>\n",
       "      <td>F</td>\n",
       "      <td>6</td>\n",
       "      <td>1247</td>\n",
       "      <td>0</td>\n",
       "    </tr>\n",
       "    <tr>\n",
       "      <th>10996</th>\n",
       "      <td>10997</td>\n",
       "      <td>C</td>\n",
       "      <td>Ship</td>\n",
       "      <td>5</td>\n",
       "      <td>4</td>\n",
       "      <td>242</td>\n",
       "      <td>5</td>\n",
       "      <td>low</td>\n",
       "      <td>F</td>\n",
       "      <td>4</td>\n",
       "      <td>1155</td>\n",
       "      <td>0</td>\n",
       "    </tr>\n",
       "    <tr>\n",
       "      <th>10997</th>\n",
       "      <td>10998</td>\n",
       "      <td>F</td>\n",
       "      <td>Ship</td>\n",
       "      <td>5</td>\n",
       "      <td>2</td>\n",
       "      <td>223</td>\n",
       "      <td>6</td>\n",
       "      <td>medium</td>\n",
       "      <td>M</td>\n",
       "      <td>2</td>\n",
       "      <td>1210</td>\n",
       "      <td>0</td>\n",
       "    </tr>\n",
       "    <tr>\n",
       "      <th>10998</th>\n",
       "      <td>10999</td>\n",
       "      <td>D</td>\n",
       "      <td>Ship</td>\n",
       "      <td>2</td>\n",
       "      <td>5</td>\n",
       "      <td>155</td>\n",
       "      <td>5</td>\n",
       "      <td>low</td>\n",
       "      <td>F</td>\n",
       "      <td>6</td>\n",
       "      <td>1639</td>\n",
       "      <td>0</td>\n",
       "    </tr>\n",
       "  </tbody>\n",
       "</table>\n",
       "</div>"
      ],
      "text/plain": [
       "          ID Warehouse_block Mode_of_Shipment  Customer_care_calls  \\\n",
       "10989  10990               B             Ship                    5   \n",
       "10990  10991               C             Ship                    5   \n",
       "10991  10992               F             Ship                    5   \n",
       "10992  10993               D             Ship                    5   \n",
       "10993  10994               F             Ship                    5   \n",
       "10994  10995               A             Ship                    4   \n",
       "10995  10996               B             Ship                    4   \n",
       "10996  10997               C             Ship                    5   \n",
       "10997  10998               F             Ship                    5   \n",
       "10998  10999               D             Ship                    2   \n",
       "\n",
       "       Customer_rating  Cost_of_the_Product  Prior_purchases  \\\n",
       "10989                1                  218                5   \n",
       "10990                4                  219                6   \n",
       "10991                2                  261                5   \n",
       "10992                1                  236                5   \n",
       "10993                1                  257                6   \n",
       "10994                1                  252                5   \n",
       "10995                1                  232                5   \n",
       "10996                4                  242                5   \n",
       "10997                2                  223                6   \n",
       "10998                5                  155                5   \n",
       "\n",
       "      Product_importance Gender  Discount_offered  Weight_in_gms  \\\n",
       "10989             medium      F                 9           1603   \n",
       "10990                low      M                 3           1098   \n",
       "10991             medium      M                 9           1227   \n",
       "10992             medium      M                 3           1906   \n",
       "10993                low      F                 1           1150   \n",
       "10994             medium      F                 1           1538   \n",
       "10995             medium      F                 6           1247   \n",
       "10996                low      F                 4           1155   \n",
       "10997             medium      M                 2           1210   \n",
       "10998                low      F                 6           1639   \n",
       "\n",
       "       Reached.on.Time_Y.N  \n",
       "10989                    0  \n",
       "10990                    0  \n",
       "10991                    1  \n",
       "10992                    0  \n",
       "10993                    0  \n",
       "10994                    1  \n",
       "10995                    0  \n",
       "10996                    0  \n",
       "10997                    0  \n",
       "10998                    0  "
      ]
     },
     "execution_count": 25,
     "metadata": {},
     "output_type": "execute_result"
    }
   ],
   "source": [
    "# Show last 10 data\n",
    "df.tail(10)"
   ]
  },
  {
   "cell_type": "markdown",
   "metadata": {},
   "source": [
    "**penjelasan** :\n",
    "\n",
    "menampilkan 10 data terakhir"
   ]
  },
  {
   "cell_type": "code",
   "execution_count": 26,
   "metadata": {},
   "outputs": [],
   "source": [
    "# Duplicate Dataset\n",
    "new_data = df.copy()"
   ]
  },
  {
   "cell_type": "markdown",
   "metadata": {},
   "source": [
    "**penjelasan** :\n",
    "\n",
    "membuat salinan dataset untuk memastikan data asli aman dan tidak berubah"
   ]
  },
  {
   "cell_type": "code",
   "execution_count": 27,
   "metadata": {},
   "outputs": [
    {
     "name": "stdout",
     "output_type": "stream",
     "text": [
      "<class 'pandas.core.frame.DataFrame'>\n",
      "RangeIndex: 10999 entries, 0 to 10998\n",
      "Data columns (total 12 columns):\n",
      " #   Column               Non-Null Count  Dtype \n",
      "---  ------               --------------  ----- \n",
      " 0   ID                   10999 non-null  int64 \n",
      " 1   Warehouse_block      10999 non-null  object\n",
      " 2   Mode_of_Shipment     10999 non-null  object\n",
      " 3   Customer_care_calls  10999 non-null  int64 \n",
      " 4   Customer_rating      10999 non-null  int64 \n",
      " 5   Cost_of_the_Product  10999 non-null  int64 \n",
      " 6   Prior_purchases      10999 non-null  int64 \n",
      " 7   Product_importance   10999 non-null  object\n",
      " 8   Gender               10999 non-null  object\n",
      " 9   Discount_offered     10999 non-null  int64 \n",
      " 10  Weight_in_gms        10999 non-null  int64 \n",
      " 11  Reached.on.Time_Y.N  10999 non-null  int64 \n",
      "dtypes: int64(8), object(4)\n",
      "memory usage: 1.0+ MB\n"
     ]
    }
   ],
   "source": [
    "# Show dataset info\n",
    "new_data.info()"
   ]
  },
  {
   "cell_type": "markdown",
   "metadata": {},
   "source": [
    "**penjelasan** :\n",
    "\n",
    "dari info dataset tersebut kita dapat melihat bahwa :\n",
    "* ada entri `10999` dalam kumpulan data\n",
    "* tipe data `8` **integer**,dan `4`**object**\n",
    "* ada `12` kolom di dalam dataset"
   ]
  },
  {
   "cell_type": "code",
   "execution_count": 28,
   "metadata": {},
   "outputs": [],
   "source": [
    "new_data= new_data.drop(['ID'],axis=1)"
   ]
  },
  {
   "cell_type": "markdown",
   "metadata": {},
   "source": [
    "**penjelasan**\n",
    "dikarenakan ID tidak berpengaruh terhadap data yang akan di proses maka akan di drop"
   ]
  },
  {
   "cell_type": "markdown",
   "metadata": {},
   "source": [
    "## 4. Exploratory Data Analysis\n"
   ]
  },
  {
   "cell_type": "code",
   "execution_count": 29,
   "metadata": {},
   "outputs": [
    {
     "data": {
      "text/html": [
       "<div>\n",
       "<style scoped>\n",
       "    .dataframe tbody tr th:only-of-type {\n",
       "        vertical-align: middle;\n",
       "    }\n",
       "\n",
       "    .dataframe tbody tr th {\n",
       "        vertical-align: top;\n",
       "    }\n",
       "\n",
       "    .dataframe thead th {\n",
       "        text-align: right;\n",
       "    }\n",
       "</style>\n",
       "<table border=\"1\" class=\"dataframe\">\n",
       "  <thead>\n",
       "    <tr style=\"text-align: right;\">\n",
       "      <th></th>\n",
       "      <th>count</th>\n",
       "      <th>mean</th>\n",
       "      <th>std</th>\n",
       "      <th>min</th>\n",
       "      <th>25%</th>\n",
       "      <th>50%</th>\n",
       "      <th>75%</th>\n",
       "      <th>max</th>\n",
       "    </tr>\n",
       "  </thead>\n",
       "  <tbody>\n",
       "    <tr>\n",
       "      <th>Customer_care_calls</th>\n",
       "      <td>10999.0</td>\n",
       "      <td>4.054459</td>\n",
       "      <td>1.141490</td>\n",
       "      <td>2.0</td>\n",
       "      <td>3.0</td>\n",
       "      <td>4.0</td>\n",
       "      <td>5.0</td>\n",
       "      <td>7.0</td>\n",
       "    </tr>\n",
       "    <tr>\n",
       "      <th>Customer_rating</th>\n",
       "      <td>10999.0</td>\n",
       "      <td>2.990545</td>\n",
       "      <td>1.413603</td>\n",
       "      <td>1.0</td>\n",
       "      <td>2.0</td>\n",
       "      <td>3.0</td>\n",
       "      <td>4.0</td>\n",
       "      <td>5.0</td>\n",
       "    </tr>\n",
       "    <tr>\n",
       "      <th>Cost_of_the_Product</th>\n",
       "      <td>10999.0</td>\n",
       "      <td>210.196836</td>\n",
       "      <td>48.063272</td>\n",
       "      <td>96.0</td>\n",
       "      <td>169.0</td>\n",
       "      <td>214.0</td>\n",
       "      <td>251.0</td>\n",
       "      <td>310.0</td>\n",
       "    </tr>\n",
       "    <tr>\n",
       "      <th>Prior_purchases</th>\n",
       "      <td>10999.0</td>\n",
       "      <td>3.567597</td>\n",
       "      <td>1.522860</td>\n",
       "      <td>2.0</td>\n",
       "      <td>3.0</td>\n",
       "      <td>3.0</td>\n",
       "      <td>4.0</td>\n",
       "      <td>10.0</td>\n",
       "    </tr>\n",
       "    <tr>\n",
       "      <th>Discount_offered</th>\n",
       "      <td>10999.0</td>\n",
       "      <td>13.373216</td>\n",
       "      <td>16.205527</td>\n",
       "      <td>1.0</td>\n",
       "      <td>4.0</td>\n",
       "      <td>7.0</td>\n",
       "      <td>10.0</td>\n",
       "      <td>65.0</td>\n",
       "    </tr>\n",
       "    <tr>\n",
       "      <th>Weight_in_gms</th>\n",
       "      <td>10999.0</td>\n",
       "      <td>3634.016729</td>\n",
       "      <td>1635.377251</td>\n",
       "      <td>1001.0</td>\n",
       "      <td>1839.5</td>\n",
       "      <td>4149.0</td>\n",
       "      <td>5050.0</td>\n",
       "      <td>7846.0</td>\n",
       "    </tr>\n",
       "    <tr>\n",
       "      <th>Reached.on.Time_Y.N</th>\n",
       "      <td>10999.0</td>\n",
       "      <td>0.596691</td>\n",
       "      <td>0.490584</td>\n",
       "      <td>0.0</td>\n",
       "      <td>0.0</td>\n",
       "      <td>1.0</td>\n",
       "      <td>1.0</td>\n",
       "      <td>1.0</td>\n",
       "    </tr>\n",
       "  </tbody>\n",
       "</table>\n",
       "</div>"
      ],
      "text/plain": [
       "                       count         mean          std     min     25%  \\\n",
       "Customer_care_calls  10999.0     4.054459     1.141490     2.0     3.0   \n",
       "Customer_rating      10999.0     2.990545     1.413603     1.0     2.0   \n",
       "Cost_of_the_Product  10999.0   210.196836    48.063272    96.0   169.0   \n",
       "Prior_purchases      10999.0     3.567597     1.522860     2.0     3.0   \n",
       "Discount_offered     10999.0    13.373216    16.205527     1.0     4.0   \n",
       "Weight_in_gms        10999.0  3634.016729  1635.377251  1001.0  1839.5   \n",
       "Reached.on.Time_Y.N  10999.0     0.596691     0.490584     0.0     0.0   \n",
       "\n",
       "                        50%     75%     max  \n",
       "Customer_care_calls     4.0     5.0     7.0  \n",
       "Customer_rating         3.0     4.0     5.0  \n",
       "Cost_of_the_Product   214.0   251.0   310.0  \n",
       "Prior_purchases         3.0     4.0    10.0  \n",
       "Discount_offered        7.0    10.0    65.0  \n",
       "Weight_in_gms        4149.0  5050.0  7846.0  \n",
       "Reached.on.Time_Y.N     1.0     1.0     1.0  "
      ]
     },
     "execution_count": 29,
     "metadata": {},
     "output_type": "execute_result"
    }
   ],
   "source": [
    "# Describe dataset\n",
    "new_data.describe().T"
   ]
  },
  {
   "cell_type": "code",
   "execution_count": 30,
   "metadata": {},
   "outputs": [
    {
     "data": {
      "text/plain": [
       "0"
      ]
     },
     "execution_count": 30,
     "metadata": {},
     "output_type": "execute_result"
    }
   ],
   "source": [
    "# Count duplicated data\n",
    "new_data.duplicated().sum()"
   ]
  },
  {
   "cell_type": "markdown",
   "metadata": {},
   "source": [
    "**penjelasan** :\n",
    "\n",
    "**tidak ada data duplikat**"
   ]
  },
  {
   "cell_type": "code",
   "execution_count": 31,
   "metadata": {},
   "outputs": [
    {
     "name": "stdout",
     "output_type": "stream",
     "text": [
      "<class 'pandas.core.frame.DataFrame'>\n",
      "RangeIndex: 10999 entries, 0 to 10998\n",
      "Data columns (total 11 columns):\n",
      " #   Column               Non-Null Count  Dtype \n",
      "---  ------               --------------  ----- \n",
      " 0   Warehouse_block      10999 non-null  object\n",
      " 1   Mode_of_Shipment     10999 non-null  object\n",
      " 2   Customer_care_calls  10999 non-null  int64 \n",
      " 3   Customer_rating      10999 non-null  int64 \n",
      " 4   Cost_of_the_Product  10999 non-null  int64 \n",
      " 5   Prior_purchases      10999 non-null  int64 \n",
      " 6   Product_importance   10999 non-null  object\n",
      " 7   Gender               10999 non-null  object\n",
      " 8   Discount_offered     10999 non-null  int64 \n",
      " 9   Weight_in_gms        10999 non-null  int64 \n",
      " 10  Reached.on.Time_Y.N  10999 non-null  int64 \n",
      "dtypes: int64(7), object(4)\n",
      "memory usage: 945.4+ KB\n"
     ]
    }
   ],
   "source": [
    "new_data.info()"
   ]
  },
  {
   "cell_type": "code",
   "execution_count": 32,
   "metadata": {},
   "outputs": [
    {
     "name": "stdout",
     "output_type": "stream",
     "text": [
      "Categorical Columns:  ['Warehouse_block', 'Mode_of_Shipment', 'Customer_rating', 'Product_importance', 'Gender', 'Reached.on.Time_Y.N']\n",
      "Numcerical Columns:  ['Customer_care_calls', 'Cost_of_the_Product', 'Prior_purchases', 'Discount_offered', 'Weight_in_gms']\n"
     ]
    }
   ],
   "source": [
    "# Splitting between numerical and categorical columns\n",
    "num_columns = ['Customer_care_calls', 'Cost_of_the_Product', 'Prior_purchases', 'Discount_offered', 'Weight_in_gms']\n",
    "cat_columns = [col for col in new_data.columns if col not in num_columns]\n",
    "\n",
    "\n",
    "print('Categorical Columns: ', cat_columns)\n",
    "print('Numcerical Columns: ', num_columns)"
   ]
  },
  {
   "cell_type": "markdown",
   "metadata": {},
   "source": [
    "**penjelasan**  \n",
    "Reached.on.Time_Y.N nya  di karenakan column yang akan mempredict nantinya"
   ]
  },
  {
   "cell_type": "code",
   "execution_count": 33,
   "metadata": {},
   "outputs": [
    {
     "data": {
      "image/png": "[encoded data removed]",
      "text/plain": [
       "<Figure size 1600x500 with 1 Axes>"
      ]
     },
     "metadata": {},
     "output_type": "display_data"
    }
   ],
   "source": [
    "# Make plot pie on infected patients\n",
    "fig = plt.subplots(figsize=(16, 5))\n",
    "plt.pie(new_data['Reached.on.Time_Y.N'].value_counts(), labels=['NOT reached on time', 'reached on time'], explode=[0, 0.1], autopct='%.0f%%', colors=['#7A288A', '#808080'])\n",
    "plt.show()"
   ]
  },
  {
   "cell_type": "markdown",
   "metadata": {},
   "source": [
    "**penjelasan**  \n",
    "didapatkan not reached on time sebesar `60%` dan reahed on time sebesar `40%` dan termasuk imbalance"
   ]
  },
  {
   "cell_type": "code",
   "execution_count": 34,
   "metadata": {},
   "outputs": [
    {
     "data": {
      "image/png": "[encoded data removed]",
      "text/plain": [
       "<Figure size 2000x400 with 4 Axes>"
      ]
     },
     "metadata": {},
     "output_type": "display_data"
    }
   ],
   "source": [
    "# Select the categorical columns\n",
    "cat_columns = new_data.select_dtypes(include=['object']).columns\n",
    "\n",
    "# Create a figure with a specified size\n",
    "fig, axs = plt.subplots(nrows=1, ncols=4, figsize=(20, 4))\n",
    "for i, col in enumerate(cat_columns[:4]):\n",
    "    sns.countplot(data=new_data, x=col, hue=new_data['Reached.on.Time_Y.N'], palette='pastel', ax=axs[i])\n",
    "\n",
    "# Show the plot\n",
    "plt.show()"
   ]
  },
  {
   "cell_type": "markdown",
   "metadata": {},
   "source": [
    "**penjelasan**  \n",
    "* warehouse_block : pada F banyak not reached on time\n",
    "* mode_of_shipment : pada ship di dapat banyak not reached on time\n",
    "* product_importance : pada low di dapat banyak not reached on time\n",
    "* gender : pada gender keduanya banyak not reached on time"
   ]
  },
  {
   "cell_type": "code",
   "execution_count": 35,
   "metadata": {},
   "outputs": [
    {
     "data": {
      "image/png": "[encoded data removed]",
      "text/plain": [
       "<Figure size 2000x2000 with 5 Axes>"
      ]
     },
     "metadata": {},
     "output_type": "display_data"
    }
   ],
   "source": [
    "# Check the outliers of numerical data\n",
    "fig = plt.figure(figsize=(20, 20))\n",
    "cols = num_columns\n",
    "num_rows = 3\n",
    "num_cols = 2\n",
    "\n",
    "for index in range(1, num_rows*num_cols):\n",
    "    fig.add_subplot(num_rows, num_cols, index)\n",
    "    sns.boxplot(data=new_data, y=cols[index-1])\n",
    "plt.show()"
   ]
  },
  {
   "cell_type": "markdown",
   "metadata": {},
   "source": [
    "**penjelasan** :\n",
    "\n",
    "dari kolom numerical di dapatkan :\n",
    "- banyak data **outliers** dan harus di handle"
   ]
  },
  {
   "cell_type": "markdown",
   "metadata": {},
   "source": [
    "**penjelasan**"
   ]
  },
  {
   "cell_type": "code",
   "execution_count": 36,
   "metadata": {},
   "outputs": [
    {
     "data": {
      "text/plain": [
       "Text(0.5, 1.0, 'Type of shipments (Most Used)')"
      ]
     },
     "execution_count": 36,
     "metadata": {},
     "output_type": "execute_result"
    },
    {
     "data": {
      "image/png": "[encoded data removed]",
      "text/plain": [
       "<Figure size 640x480 with 1 Axes>"
      ]
     },
     "metadata": {},
     "output_type": "display_data"
    }
   ],
   "source": [
    "sns.countplot(data=new_data,x=\"Mode_of_Shipment\")\n",
    "plt.title(\"Type of shipments (Most Used)\")"
   ]
  },
  {
   "cell_type": "markdown",
   "metadata": {},
   "source": [
    "**penjelasan**\n",
    "\n",
    "* mode_of_shipment: di dapat banyak yang menggunakan *ship*"
   ]
  },
  {
   "cell_type": "code",
   "execution_count": 37,
   "metadata": {},
   "outputs": [
    {
     "data": {
      "text/plain": [
       "Text(0.5, 1.0, 'Model of shipment vs product_cost')"
      ]
     },
     "execution_count": 37,
     "metadata": {},
     "output_type": "execute_result"
    },
    {
     "data": {
      "text/plain": [
       "<Figure size 1000x600 with 0 Axes>"
      ]
     },
     "metadata": {},
     "output_type": "display_data"
    },
    {
     "data": {
      "image/png": "[encoded data removed]",
      "text/plain": [
       "<Figure size 640x480 with 1 Axes>"
      ]
     },
     "metadata": {},
     "output_type": "display_data"
    }
   ],
   "source": [
    "plt.figure(figsize=(10,6))\n",
    "grouped=df.groupby([\"Mode_of_Shipment\",\"Product_importance\"])[\"Cost_of_the_Product\"].sum().unstack()\n",
    "ax=grouped.plot(kind=\"bar\")\n",
    "ax\n",
    "plt.title(\"Model of shipment vs product_cost\")"
   ]
  },
  {
   "cell_type": "code",
   "execution_count": 38,
   "metadata": {},
   "outputs": [
    {
     "data": {
      "text/plain": [
       "Text(0.5, 1.0, 'Model of shipment vs Weight_in_gms ')"
      ]
     },
     "execution_count": 38,
     "metadata": {},
     "output_type": "execute_result"
    },
    {
     "data": {
      "text/plain": [
       "<Figure size 1000x600 with 0 Axes>"
      ]
     },
     "metadata": {},
     "output_type": "display_data"
    },
    {
     "data": {
      "image/png": "[encoded data removed]",
      "text/plain": [
       "<Figure size 640x480 with 1 Axes>"
      ]
     },
     "metadata": {},
     "output_type": "display_data"
    }
   ],
   "source": [
    "plt.figure(figsize=(10,6))\n",
    "grouped=df.groupby([\"Mode_of_Shipment\",\"Product_importance\"])[\"Weight_in_gms\"].sum().unstack()\n",
    "ax=grouped.plot(kind=\"bar\")\n",
    "ax\n",
    "plt.title(\"Model of shipment vs Weight_in_gms \")"
   ]
  },
  {
   "cell_type": "code",
   "execution_count": 39,
   "metadata": {},
   "outputs": [
    {
     "data": {
      "text/plain": [
       "Text(0.5, 1.0, 'Model of shipment vs Discount_offered ')"
      ]
     },
     "execution_count": 39,
     "metadata": {},
     "output_type": "execute_result"
    },
    {
     "data": {
      "text/plain": [
       "<Figure size 1000x600 with 0 Axes>"
      ]
     },
     "metadata": {},
     "output_type": "display_data"
    },
    {
     "data": {
      "image/png": "[encoded data removed]",
      "text/plain": [
       "<Figure size 640x480 with 1 Axes>"
      ]
     },
     "metadata": {},
     "output_type": "display_data"
    }
   ],
   "source": [
    "plt.figure(figsize=(10,6))\n",
    "grouped=df.groupby([\"Mode_of_Shipment\",\"Product_importance\"])[\"Discount_offered\"].sum().unstack()\n",
    "ax=grouped.plot(kind=\"bar\")\n",
    "ax\n",
    "plt.title(\"Model of shipment vs Discount_offered \")"
   ]
  },
  {
   "cell_type": "markdown",
   "metadata": {},
   "source": [
    "**penjelasan**  \n",
    "Untuk diskon kapal ditawarkan lebih banyak dan juga karena harga dan berat produk semakin banyak orang yang memilih kapal"
   ]
  },
  {
   "cell_type": "markdown",
   "metadata": {},
   "source": [
    "## 5. Feature Engineering\n"
   ]
  },
  {
   "cell_type": "markdown",
   "metadata": {},
   "source": [
    "### **Handling Cardinality**"
   ]
  },
  {
   "cell_type": "code",
   "execution_count": 40,
   "metadata": {},
   "outputs": [
    {
     "name": "stdout",
     "output_type": "stream",
     "text": [
      "<class 'pandas.core.frame.DataFrame'>\n",
      "RangeIndex: 10999 entries, 0 to 10998\n",
      "Data columns (total 11 columns):\n",
      " #   Column               Non-Null Count  Dtype \n",
      "---  ------               --------------  ----- \n",
      " 0   Warehouse_block      10999 non-null  object\n",
      " 1   Mode_of_Shipment     10999 non-null  object\n",
      " 2   Customer_care_calls  10999 non-null  int64 \n",
      " 3   Customer_rating      10999 non-null  int64 \n",
      " 4   Cost_of_the_Product  10999 non-null  int64 \n",
      " 5   Prior_purchases      10999 non-null  int64 \n",
      " 6   Product_importance   10999 non-null  object\n",
      " 7   Gender               10999 non-null  object\n",
      " 8   Discount_offered     10999 non-null  int64 \n",
      " 9   Weight_in_gms        10999 non-null  int64 \n",
      " 10  Reached.on.Time_Y.N  10999 non-null  int64 \n",
      "dtypes: int64(7), object(4)\n",
      "memory usage: 945.4+ KB\n"
     ]
    }
   ],
   "source": [
    "# Check dataset info\n",
    "new_data.info()"
   ]
  },
  {
   "cell_type": "code",
   "execution_count": 41,
   "metadata": {},
   "outputs": [
    {
     "name": "stdout",
     "output_type": "stream",
     "text": [
      "Categorical Columns:  ['Warehouse_block', 'Mode_of_Shipment', 'Customer_rating', 'Product_importance', 'Gender', 'Reached.on.Time_Y.N']\n",
      "Numcerical Columns:  ['Customer_care_calls', 'Cost_of_the_Product', 'Prior_purchases', 'Discount_offered', 'Weight_in_gms']\n"
     ]
    }
   ],
   "source": [
    "\n",
    "# Splitting between numerical and categorical columns\n",
    "num_columns = ['Customer_care_calls', 'Cost_of_the_Product', 'Prior_purchases', 'Discount_offered', 'Weight_in_gms']\n",
    "cat_columns = [col for col in new_data.columns if col not in num_columns]\n",
    "\n",
    "\n",
    "print('Categorical Columns: ', cat_columns)\n",
    "print('Numcerical Columns: ', num_columns)"
   ]
  },
  {
   "cell_type": "markdown",
   "metadata": {},
   "source": [
    "**penjelasan**  \n",
    "membagi kolom menjadi kolom numerik dan kategorikal agar lebih mudah dianalisis"
   ]
  },
  {
   "cell_type": "code",
   "execution_count": 42,
   "metadata": {},
   "outputs": [
    {
     "data": {
      "text/html": [
       "<div>\n",
       "<style scoped>\n",
       "    .dataframe tbody tr th:only-of-type {\n",
       "        vertical-align: middle;\n",
       "    }\n",
       "\n",
       "    .dataframe tbody tr th {\n",
       "        vertical-align: top;\n",
       "    }\n",
       "\n",
       "    .dataframe thead th {\n",
       "        text-align: right;\n",
       "    }\n",
       "</style>\n",
       "<table border=\"1\" class=\"dataframe\">\n",
       "  <thead>\n",
       "    <tr style=\"text-align: right;\">\n",
       "      <th></th>\n",
       "      <th>categorical_column</th>\n",
       "      <th>unique_value</th>\n",
       "    </tr>\n",
       "  </thead>\n",
       "  <tbody>\n",
       "    <tr>\n",
       "      <th>0</th>\n",
       "      <td>Warehouse_block</td>\n",
       "      <td>5</td>\n",
       "    </tr>\n",
       "    <tr>\n",
       "      <th>1</th>\n",
       "      <td>Mode_of_Shipment</td>\n",
       "      <td>3</td>\n",
       "    </tr>\n",
       "    <tr>\n",
       "      <th>2</th>\n",
       "      <td>Customer_rating</td>\n",
       "      <td>5</td>\n",
       "    </tr>\n",
       "    <tr>\n",
       "      <th>3</th>\n",
       "      <td>Product_importance</td>\n",
       "      <td>3</td>\n",
       "    </tr>\n",
       "    <tr>\n",
       "      <th>4</th>\n",
       "      <td>Gender</td>\n",
       "      <td>2</td>\n",
       "    </tr>\n",
       "    <tr>\n",
       "      <th>5</th>\n",
       "      <td>Reached.on.Time_Y.N</td>\n",
       "      <td>2</td>\n",
       "    </tr>\n",
       "  </tbody>\n",
       "</table>\n",
       "</div>"
      ],
      "text/plain": [
       "    categorical_column  unique_value\n",
       "0      Warehouse_block             5\n",
       "1     Mode_of_Shipment             3\n",
       "2      Customer_rating             5\n",
       "3   Product_importance             3\n",
       "4               Gender             2\n",
       "5  Reached.on.Time_Y.N             2"
      ]
     },
     "execution_count": 42,
     "metadata": {},
     "output_type": "execute_result"
    }
   ],
   "source": [
    "# Making empty list for appending the unique values\n",
    "cat_columns_unique = []\n",
    "# Inspect the Number of Different Labels, for Different Categorical Variables\n",
    "for cat in cat_columns:\n",
    "    cat_columns_unique.append([cat, new_data[cat].nunique()])\n",
    "\n",
    "# Showing dataframe consisting \n",
    "pd.DataFrame(data=cat_columns_unique, columns=['categorical_column', 'unique_value'])"
   ]
  },
  {
   "cell_type": "markdown",
   "metadata": {},
   "source": [
    "**penjelasana**  \n",
    "* Warehouse_block `5` unique value\n",
    "* Mode_of_Shipment  `3` unique value\n",
    "* Customer_rating   `5` unique value\n",
    "* Product_importance    `3` unique value\n",
    "* Gender\t`2` unique value\n",
    "* Reached.on.Time_Y.N\t`2` unique value"
   ]
  },
  {
   "cell_type": "markdown",
   "metadata": {},
   "source": [
    "### Splitting Between X and Y\n"
   ]
  },
  {
   "cell_type": "code",
   "execution_count": 43,
   "metadata": {},
   "outputs": [],
   "source": [
    "X = new_data.drop('Reached.on.Time_Y.N', axis=1)\n",
    "y = new_data['Reached.on.Time_Y.N']"
   ]
  },
  {
   "cell_type": "markdown",
   "metadata": {},
   "source": [
    "### Splitting Between Train and Test\n"
   ]
  },
  {
   "cell_type": "code",
   "execution_count": 44,
   "metadata": {},
   "outputs": [
    {
     "name": "stdout",
     "output_type": "stream",
     "text": [
      "Train Size (8799, 10)\n",
      "Test Size (2200, 10)\n"
     ]
    }
   ],
   "source": [
    "X_train, X_test, y_train, y_test = train_test_split(X ,y ,test_size=0.2 ,random_state=43)\n",
    "print('Train Size', X_train.shape)\n",
    "print('Test Size', X_test.shape)"
   ]
  },
  {
   "cell_type": "markdown",
   "metadata": {},
   "source": [
    "**penjelasan**  \n",
    "* Train Size (8799, 10)\n",
    "* Test Size (2200, 10)"
   ]
  },
  {
   "cell_type": "code",
   "execution_count": 45,
   "metadata": {},
   "outputs": [
    {
     "name": "stdout",
     "output_type": "stream",
     "text": [
      "Categorical Columns:  ['Warehouse_block', 'Mode_of_Shipment', 'Customer_rating', 'Product_importance', 'Gender', 'Reached.on.Time_Y.N']\n",
      "Numcerical Columns:  ['Customer_care_calls', 'Cost_of_the_Product', 'Prior_purchases', 'Discount_offered', 'Weight_in_gms']\n"
     ]
    }
   ],
   "source": [
    "\n",
    "# Splitting between numerical and categorical columns\n",
    "num_columns = ['Customer_care_calls', 'Cost_of_the_Product', 'Prior_purchases', 'Discount_offered', 'Weight_in_gms']\n",
    "cat_columns = [col for col in new_data.columns if col not in num_columns]\n",
    "\n",
    "\n",
    "print('Categorical Columns: ', cat_columns)\n",
    "print('Numcerical Columns: ', num_columns)"
   ]
  },
  {
   "cell_type": "markdown",
   "metadata": {},
   "source": [
    "### **Handling Missing Value**"
   ]
  },
  {
   "cell_type": "code",
   "execution_count": 46,
   "metadata": {},
   "outputs": [
    {
     "data": {
      "text/plain": [
       "Warehouse_block        0\n",
       "Mode_of_Shipment       0\n",
       "Customer_care_calls    0\n",
       "Customer_rating        0\n",
       "Cost_of_the_Product    0\n",
       "Prior_purchases        0\n",
       "Product_importance     0\n",
       "Gender                 0\n",
       "Discount_offered       0\n",
       "Weight_in_gms          0\n",
       "dtype: int64"
      ]
     },
     "execution_count": 46,
     "metadata": {},
     "output_type": "execute_result"
    }
   ],
   "source": [
    "# Check null in dataset\n",
    "X_train.isnull().sum()"
   ]
  },
  {
   "cell_type": "code",
   "execution_count": 47,
   "metadata": {},
   "outputs": [
    {
     "data": {
      "text/plain": [
       "Warehouse_block        0\n",
       "Mode_of_Shipment       0\n",
       "Customer_care_calls    0\n",
       "Customer_rating        0\n",
       "Cost_of_the_Product    0\n",
       "Prior_purchases        0\n",
       "Product_importance     0\n",
       "Gender                 0\n",
       "Discount_offered       0\n",
       "Weight_in_gms          0\n",
       "dtype: int64"
      ]
     },
     "execution_count": 47,
     "metadata": {},
     "output_type": "execute_result"
    }
   ],
   "source": [
    "X_test.isnull().sum()"
   ]
  },
  {
   "cell_type": "code",
   "execution_count": 48,
   "metadata": {},
   "outputs": [
    {
     "data": {
      "text/plain": [
       "0"
      ]
     },
     "execution_count": 48,
     "metadata": {},
     "output_type": "execute_result"
    }
   ],
   "source": [
    "y_train.isnull().sum()"
   ]
  },
  {
   "cell_type": "code",
   "execution_count": 49,
   "metadata": {},
   "outputs": [
    {
     "data": {
      "text/plain": [
       "0"
      ]
     },
     "execution_count": 49,
     "metadata": {},
     "output_type": "execute_result"
    }
   ],
   "source": [
    "y_test.isnull().sum()"
   ]
  },
  {
   "cell_type": "markdown",
   "metadata": {},
   "source": [
    "**penjelasan** :\n",
    "\n",
    "Kita dapat melihat bahwa ada beberapa **tidak ada nilai null** dalam data, sekarang kita dapat melanjutkan ke langkah rekayasa fitur berikutnya"
   ]
  },
  {
   "cell_type": "markdown",
   "metadata": {},
   "source": [
    "### **Handling Outliers**"
   ]
  },
  {
   "cell_type": "markdown",
   "metadata": {},
   "source": [
    "Untuk memudahkan penanganannya, kita akan membuat fungsi untuk membagi setiap kolom menjadi `kolom terdistribusi normal`, dan `kolom terdistribusi miring` dengan penjelasan lebih lanjut apakah kolom tersebut memiliki **kemiringan rendah atau tinggi**"
   ]
  },
  {
   "cell_type": "code",
   "execution_count": 50,
   "metadata": {},
   "outputs": [],
   "source": [
    "# Making data and columns for normal distribution\n",
    "data_normal = []\n",
    "column_normal = []\n",
    "\n",
    "# Making data and columns for skewed distribution\n",
    "data_skewed = []\n",
    "column_skewed = []\n",
    "\n",
    "# For loop in every numerical column to filer the data distribution into either normal distributed or skewed columns\n",
    "for num in num_columns:\n",
    "    skewness = X_train[num].skew()\n",
    "    \n",
    "    # If the data normally distributed\n",
    "    if skewness <= 0.5 and skewness >= -0.5:            \n",
    "        column_normal.append(num)\n",
    "        data_normal.append([num, skewness])\n",
    "        \n",
    "    # Elif the data has low skewness\n",
    "    elif skewness < -0.5 and skewness > -1: \n",
    "        column_skewed.append(num)\n",
    "        data_skewed.append([num, skewness, 'low'])\n",
    "\n",
    "    # Elif the data has low skewness\n",
    "    elif skewness > 0.5 and skewness < 1:\n",
    "        column_skewed.append(num)\n",
    "        data_skewed.append([num, skewness, 'low'])\n",
    "\n",
    "    # Elif the data has high skewness\n",
    "    elif skewness < -1 or skewness > 1:\n",
    "        column_skewed.append(num)\n",
    "        data_skewed.append([num, skewness, 'high'])"
   ]
  },
  {
   "cell_type": "code",
   "execution_count": 51,
   "metadata": {},
   "outputs": [
    {
     "data": {
      "text/html": [
       "<div>\n",
       "<style scoped>\n",
       "    .dataframe tbody tr th:only-of-type {\n",
       "        vertical-align: middle;\n",
       "    }\n",
       "\n",
       "    .dataframe tbody tr th {\n",
       "        vertical-align: top;\n",
       "    }\n",
       "\n",
       "    .dataframe thead th {\n",
       "        text-align: right;\n",
       "    }\n",
       "</style>\n",
       "<table border=\"1\" class=\"dataframe\">\n",
       "  <thead>\n",
       "    <tr style=\"text-align: right;\">\n",
       "      <th></th>\n",
       "      <th>normal_distribution</th>\n",
       "      <th>skewness</th>\n",
       "    </tr>\n",
       "  </thead>\n",
       "  <tbody>\n",
       "    <tr>\n",
       "      <th>0</th>\n",
       "      <td>Customer_care_calls</td>\n",
       "      <td>0.382963</td>\n",
       "    </tr>\n",
       "    <tr>\n",
       "      <th>1</th>\n",
       "      <td>Cost_of_the_Product</td>\n",
       "      <td>-0.179086</td>\n",
       "    </tr>\n",
       "    <tr>\n",
       "      <th>2</th>\n",
       "      <td>Weight_in_gms</td>\n",
       "      <td>-0.254884</td>\n",
       "    </tr>\n",
       "  </tbody>\n",
       "</table>\n",
       "</div>"
      ],
      "text/plain": [
       "   normal_distribution  skewness\n",
       "0  Customer_care_calls  0.382963\n",
       "1  Cost_of_the_Product -0.179086\n",
       "2        Weight_in_gms -0.254884"
      ]
     },
     "execution_count": 51,
     "metadata": {},
     "output_type": "execute_result"
    }
   ],
   "source": [
    "# Showing normally distributed columns\n",
    "pd.DataFrame(data=data_normal, columns=['normal_distribution', 'skewness'])"
   ]
  },
  {
   "cell_type": "markdown",
   "metadata": {},
   "source": [
    "**penjelasan** :\n",
    "\n",
    "pada kolom  `Customer_care_calls`, `Cost_of_the_Product`, dan `Weight_in_gms `kolomnya **normal distribution**"
   ]
  },
  {
   "cell_type": "code",
   "execution_count": 52,
   "metadata": {},
   "outputs": [
    {
     "data": {
      "text/html": [
       "<div>\n",
       "<style scoped>\n",
       "    .dataframe tbody tr th:only-of-type {\n",
       "        vertical-align: middle;\n",
       "    }\n",
       "\n",
       "    .dataframe tbody tr th {\n",
       "        vertical-align: top;\n",
       "    }\n",
       "\n",
       "    .dataframe thead th {\n",
       "        text-align: right;\n",
       "    }\n",
       "</style>\n",
       "<table border=\"1\" class=\"dataframe\">\n",
       "  <thead>\n",
       "    <tr style=\"text-align: right;\">\n",
       "      <th></th>\n",
       "      <th>skewed_distribution</th>\n",
       "      <th>skewness</th>\n",
       "      <th>rate</th>\n",
       "    </tr>\n",
       "  </thead>\n",
       "  <tbody>\n",
       "    <tr>\n",
       "      <th>0</th>\n",
       "      <td>Prior_purchases</td>\n",
       "      <td>1.651716</td>\n",
       "      <td>high</td>\n",
       "    </tr>\n",
       "    <tr>\n",
       "      <th>1</th>\n",
       "      <td>Discount_offered</td>\n",
       "      <td>1.808977</td>\n",
       "      <td>high</td>\n",
       "    </tr>\n",
       "  </tbody>\n",
       "</table>\n",
       "</div>"
      ],
      "text/plain": [
       "  skewed_distribution  skewness  rate\n",
       "0     Prior_purchases  1.651716  high\n",
       "1    Discount_offered  1.808977  high"
      ]
     },
     "execution_count": 52,
     "metadata": {},
     "output_type": "execute_result"
    }
   ],
   "source": [
    "# Showing skewed columns\n",
    "pd.DataFrame(data=data_skewed, columns=['skewed_distribution', 'skewness', 'rate'])"
   ]
  },
  {
   "cell_type": "markdown",
   "metadata": {},
   "source": [
    "**penjelasan** :\n",
    "\n",
    "di dapat pada kolom `Prior_purchases`, dan `Discount_offered` **skew distribution**"
   ]
  },
  {
   "cell_type": "markdown",
   "metadata": {},
   "source": [
    "---"
   ]
  },
  {
   "cell_type": "markdown",
   "metadata": {},
   "source": [
    "Setelah membagi kolom menjadi distribusi normal dan skewed, sekarang kita dapat melanjutkan untuk membatasi outlier dengan metode `gaussian` untuk **kolom terdistribusi normal** dan dengan metode `iqr` untuk **kolom terdistribusi miring**"
   ]
  },
  {
   "cell_type": "code",
   "execution_count": 53,
   "metadata": {},
   "outputs": [],
   "source": [
    "# Capping Method for Normal Distribution  \n",
    "winsorizer_normal = Winsorizer(capping_method='gaussian',\n",
    "                            tail='both',\n",
    "                            fold=3,\n",
    "                            variables=column_normal,\n",
    "                            missing_values='ignore')\n",
    "\n",
    "# Fit & Transforming X_train \n",
    "X_train_capped = winsorizer_normal.fit_transform(X_train)\n",
    "\n",
    "# Transforming X_test\n",
    "X_test_capped = winsorizer_normal.transform(X_test)"
   ]
  },
  {
   "cell_type": "markdown",
   "metadata": {},
   "source": [
    "**penjelasan** :\n",
    "\n",
    "membatasi **kolom terdistribusi normal**"
   ]
  },
  {
   "cell_type": "code",
   "execution_count": 54,
   "metadata": {},
   "outputs": [],
   "source": [
    "# Capping Method for Skewed Distribution  \n",
    "winsorizer_skewed = Winsorizer(capping_method='iqr',\n",
    "                            tail='both',\n",
    "                            fold=1.5,\n",
    "                            variables=column_skewed)\n",
    "\n",
    "# Fit & Transforming X_train \n",
    "X_train_capped = winsorizer_skewed.fit_transform(X_train_capped)\n",
    "\n",
    "# Transforming X_test\n",
    "X_test_capped = winsorizer_skewed.transform(X_test_capped)"
   ]
  },
  {
   "cell_type": "markdown",
   "metadata": {},
   "source": [
    "**penjelasan** :\n",
    "\n",
    "membatasi **kolom terdistribusi miring**"
   ]
  },
  {
   "cell_type": "code",
   "execution_count": 55,
   "metadata": {},
   "outputs": [],
   "source": [
    "# Plot Distribution Comparison\n",
    "def outlier_handling_plot_comparison(df_before, df_after, variable):\n",
    "\n",
    "    # Figure Size, and Super Title based on variable\n",
    "    fig, axes = plt.subplots(2, 2, figsize=(15, 10))                               \n",
    "    fig.suptitle(f'{variable} - Distribution Before and After Outlier Handling')\n",
    "\n",
    "    # Plot Histogram Before\n",
    "    sns.histplot(df_before[variable], bins=30, ax=axes[0, 0], color='orange')\n",
    "    axes[0, 0].set_title('Histogram Before')\n",
    "\n",
    "    # Plot Boxplot Before\n",
    "    sns.boxplot(y=df_before[variable], ax=axes[1, 0])\n",
    "    axes[1, 0].set_title('Boxplot Before')\n",
    "\n",
    "    # Plot Histogram After\n",
    "    sns.histplot(df_after[variable], bins=30, ax=axes[0, 1], color='orange')\n",
    "    axes[0, 1].set_title('Histogram After')\n",
    "\n",
    "    # Plot Boxplot After\n",
    "    sns.boxplot(y=df_after[variable], ax=axes[1, 1])\n",
    "    axes[1, 1].set_title('Boxplot After')\n",
    "\n",
    "    plt.tight_layout(rect=[0, 0.03, 1, 0.95])\n",
    "    plt.show()"
   ]
  },
  {
   "cell_type": "markdown",
   "metadata": {},
   "source": [
    "**penjelasana** :\n",
    "\n",
    "berfungsi untuk menunjukkan perbedaan setiap kolom sebelum dan sesudah penanganan outlier"
   ]
  },
  {
   "cell_type": "code",
   "execution_count": 56,
   "metadata": {},
   "outputs": [
    {
     "data": {
      "image/png": "[encoded data removed]",
      "text/plain": [
       "<Figure size 1500x1000 with 4 Axes>"
      ]
     },
     "metadata": {},
     "output_type": "display_data"
    },
    {
     "data": {
      "image/png": "[encoded data removed]",
      "text/plain": [
       "<Figure size 1500x1000 with 4 Axes>"
      ]
     },
     "metadata": {},
     "output_type": "display_data"
    },
    {
     "data": {
      "image/png": "[encoded data removed]",
      "text/plain": [
       "<Figure size 1500x1000 with 4 Axes>"
      ]
     },
     "metadata": {},
     "output_type": "display_data"
    },
    {
     "data": {
      "image/png": "[encoded data removed]",
      "text/plain": [
       "<Figure size 1500x1000 with 4 Axes>"
      ]
     },
     "metadata": {},
     "output_type": "display_data"
    },
    {
     "data": {
      "image/png": "[encoded data removed]",
      "text/plain": [
       "<Figure size 1500x1000 with 4 Axes>"
      ]
     },
     "metadata": {},
     "output_type": "display_data"
    }
   ],
   "source": [
    "for num in num_columns:\n",
    "    outlier_handling_plot_comparison(X_train, X_train_capped, num)"
   ]
  },
  {
   "cell_type": "markdown",
   "metadata": {},
   "source": [
    "**penjelasan**  \n",
    "hasil yang sudah di hilangkan outliernya"
   ]
  },
  {
   "cell_type": "markdown",
   "metadata": {},
   "source": [
    "### **Splitting Numerical and Categorical Data**"
   ]
  },
  {
   "cell_type": "markdown",
   "metadata": {},
   "source": [
    "Setelah menangani outlier, kita akan **membagi data** menjadi kolom kategorikal dan numerik untuk`feature selection`, ` feature scaling` and ` feature encoding`"
   ]
  },
  {
   "cell_type": "code",
   "execution_count": 57,
   "metadata": {},
   "outputs": [
    {
     "name": "stdout",
     "output_type": "stream",
     "text": [
      "Categorical Columns:  ['Warehouse_block', 'Mode_of_Shipment', 'Customer_rating', 'Product_importance', 'Gender']\n",
      "Numcerical Columns:  ['Customer_care_calls', 'Cost_of_the_Product', 'Prior_purchases', 'Discount_offered', 'Weight_in_gms']\n"
     ]
    }
   ],
   "source": [
    "\n",
    "# Splitting between numerical and categorical columns\n",
    "num_columns = ['Customer_care_calls', 'Cost_of_the_Product', 'Prior_purchases', 'Discount_offered', 'Weight_in_gms']\n",
    "cat_columns = ['Warehouse_block', 'Mode_of_Shipment', 'Customer_rating', 'Product_importance', 'Gender']\n",
    "\n",
    "\n",
    "print('Categorical Columns: ', cat_columns)\n",
    "print('Numcerical Columns: ', num_columns)"
   ]
  },
  {
   "cell_type": "code",
   "execution_count": 58,
   "metadata": {},
   "outputs": [
    {
     "data": {
      "text/html": [
       "<div>\n",
       "<style scoped>\n",
       "    .dataframe tbody tr th:only-of-type {\n",
       "        vertical-align: middle;\n",
       "    }\n",
       "\n",
       "    .dataframe tbody tr th {\n",
       "        vertical-align: top;\n",
       "    }\n",
       "\n",
       "    .dataframe thead th {\n",
       "        text-align: right;\n",
       "    }\n",
       "</style>\n",
       "<table border=\"1\" class=\"dataframe\">\n",
       "  <thead>\n",
       "    <tr style=\"text-align: right;\">\n",
       "      <th></th>\n",
       "      <th>Warehouse_block</th>\n",
       "      <th>Mode_of_Shipment</th>\n",
       "      <th>Customer_rating</th>\n",
       "      <th>Product_importance</th>\n",
       "      <th>Gender</th>\n",
       "    </tr>\n",
       "  </thead>\n",
       "  <tbody>\n",
       "    <tr>\n",
       "      <th>4126</th>\n",
       "      <td>C</td>\n",
       "      <td>Flight</td>\n",
       "      <td>3</td>\n",
       "      <td>low</td>\n",
       "      <td>M</td>\n",
       "    </tr>\n",
       "    <tr>\n",
       "      <th>9145</th>\n",
       "      <td>F</td>\n",
       "      <td>Ship</td>\n",
       "      <td>3</td>\n",
       "      <td>low</td>\n",
       "      <td>M</td>\n",
       "    </tr>\n",
       "    <tr>\n",
       "      <th>7852</th>\n",
       "      <td>C</td>\n",
       "      <td>Ship</td>\n",
       "      <td>5</td>\n",
       "      <td>high</td>\n",
       "      <td>M</td>\n",
       "    </tr>\n",
       "    <tr>\n",
       "      <th>7754</th>\n",
       "      <td>A</td>\n",
       "      <td>Ship</td>\n",
       "      <td>5</td>\n",
       "      <td>low</td>\n",
       "      <td>M</td>\n",
       "    </tr>\n",
       "    <tr>\n",
       "      <th>2</th>\n",
       "      <td>A</td>\n",
       "      <td>Flight</td>\n",
       "      <td>2</td>\n",
       "      <td>low</td>\n",
       "      <td>M</td>\n",
       "    </tr>\n",
       "  </tbody>\n",
       "</table>\n",
       "</div>"
      ],
      "text/plain": [
       "     Warehouse_block Mode_of_Shipment  Customer_rating Product_importance  \\\n",
       "4126               C           Flight                3                low   \n",
       "9145               F             Ship                3                low   \n",
       "7852               C             Ship                5               high   \n",
       "7754               A             Ship                5                low   \n",
       "2                  A           Flight                2                low   \n",
       "\n",
       "     Gender  \n",
       "4126      M  \n",
       "9145      M  \n",
       "7852      M  \n",
       "7754      M  \n",
       "2         M  "
      ]
     },
     "execution_count": 58,
     "metadata": {},
     "output_type": "execute_result"
    }
   ],
   "source": [
    "# Splitting the train and test features into categorical and numerical columns\n",
    "X_train_num = X_train_capped[num_columns]\n",
    "X_train_cat = X_train_capped[cat_columns]\n",
    "\n",
    "X_test_num = X_test_capped[num_columns]\n",
    "X_test_cat = X_test_capped[cat_columns]\n",
    "\n",
    "X_train_cat.head()"
   ]
  },
  {
   "cell_type": "code",
   "execution_count": 59,
   "metadata": {},
   "outputs": [
    {
     "data": {
      "text/html": [
       "<div>\n",
       "<style scoped>\n",
       "    .dataframe tbody tr th:only-of-type {\n",
       "        vertical-align: middle;\n",
       "    }\n",
       "\n",
       "    .dataframe tbody tr th {\n",
       "        vertical-align: top;\n",
       "    }\n",
       "\n",
       "    .dataframe thead th {\n",
       "        text-align: right;\n",
       "    }\n",
       "</style>\n",
       "<table border=\"1\" class=\"dataframe\">\n",
       "  <thead>\n",
       "    <tr style=\"text-align: right;\">\n",
       "      <th></th>\n",
       "      <th>Customer_care_calls</th>\n",
       "      <th>Cost_of_the_Product</th>\n",
       "      <th>Prior_purchases</th>\n",
       "      <th>Discount_offered</th>\n",
       "      <th>Weight_in_gms</th>\n",
       "    </tr>\n",
       "  </thead>\n",
       "  <tbody>\n",
       "    <tr>\n",
       "      <th>4126</th>\n",
       "      <td>4</td>\n",
       "      <td>249</td>\n",
       "      <td>3.0</td>\n",
       "      <td>5</td>\n",
       "      <td>5017</td>\n",
       "    </tr>\n",
       "    <tr>\n",
       "      <th>9145</th>\n",
       "      <td>6</td>\n",
       "      <td>279</td>\n",
       "      <td>4.0</td>\n",
       "      <td>7</td>\n",
       "      <td>1090</td>\n",
       "    </tr>\n",
       "    <tr>\n",
       "      <th>7852</th>\n",
       "      <td>3</td>\n",
       "      <td>150</td>\n",
       "      <td>3.0</td>\n",
       "      <td>6</td>\n",
       "      <td>4565</td>\n",
       "    </tr>\n",
       "    <tr>\n",
       "      <th>7754</th>\n",
       "      <td>7</td>\n",
       "      <td>285</td>\n",
       "      <td>4.0</td>\n",
       "      <td>6</td>\n",
       "      <td>1591</td>\n",
       "    </tr>\n",
       "    <tr>\n",
       "      <th>2</th>\n",
       "      <td>2</td>\n",
       "      <td>183</td>\n",
       "      <td>4.0</td>\n",
       "      <td>19</td>\n",
       "      <td>3374</td>\n",
       "    </tr>\n",
       "    <tr>\n",
       "      <th>...</th>\n",
       "      <td>...</td>\n",
       "      <td>...</td>\n",
       "      <td>...</td>\n",
       "      <td>...</td>\n",
       "      <td>...</td>\n",
       "    </tr>\n",
       "    <tr>\n",
       "      <th>2064</th>\n",
       "      <td>3</td>\n",
       "      <td>156</td>\n",
       "      <td>4.0</td>\n",
       "      <td>7</td>\n",
       "      <td>1492</td>\n",
       "    </tr>\n",
       "    <tr>\n",
       "      <th>10517</th>\n",
       "      <td>5</td>\n",
       "      <td>141</td>\n",
       "      <td>3.0</td>\n",
       "      <td>4</td>\n",
       "      <td>4534</td>\n",
       "    </tr>\n",
       "    <tr>\n",
       "      <th>7985</th>\n",
       "      <td>4</td>\n",
       "      <td>154</td>\n",
       "      <td>5.5</td>\n",
       "      <td>7</td>\n",
       "      <td>5317</td>\n",
       "    </tr>\n",
       "    <tr>\n",
       "      <th>2303</th>\n",
       "      <td>3</td>\n",
       "      <td>181</td>\n",
       "      <td>2.0</td>\n",
       "      <td>19</td>\n",
       "      <td>3236</td>\n",
       "    </tr>\n",
       "    <tr>\n",
       "      <th>3392</th>\n",
       "      <td>4</td>\n",
       "      <td>296</td>\n",
       "      <td>2.0</td>\n",
       "      <td>9</td>\n",
       "      <td>1523</td>\n",
       "    </tr>\n",
       "  </tbody>\n",
       "</table>\n",
       "<p>8799 rows × 5 columns</p>\n",
       "</div>"
      ],
      "text/plain": [
       "       Customer_care_calls  Cost_of_the_Product  Prior_purchases  \\\n",
       "4126                     4                  249              3.0   \n",
       "9145                     6                  279              4.0   \n",
       "7852                     3                  150              3.0   \n",
       "7754                     7                  285              4.0   \n",
       "2                        2                  183              4.0   \n",
       "...                    ...                  ...              ...   \n",
       "2064                     3                  156              4.0   \n",
       "10517                    5                  141              3.0   \n",
       "7985                     4                  154              5.5   \n",
       "2303                     3                  181              2.0   \n",
       "3392                     4                  296              2.0   \n",
       "\n",
       "       Discount_offered  Weight_in_gms  \n",
       "4126                  5           5017  \n",
       "9145                  7           1090  \n",
       "7852                  6           4565  \n",
       "7754                  6           1591  \n",
       "2                    19           3374  \n",
       "...                 ...            ...  \n",
       "2064                  7           1492  \n",
       "10517                 4           4534  \n",
       "7985                  7           5317  \n",
       "2303                 19           3236  \n",
       "3392                  9           1523  \n",
       "\n",
       "[8799 rows x 5 columns]"
      ]
     },
     "execution_count": 59,
     "metadata": {},
     "output_type": "execute_result"
    }
   ],
   "source": [
    "X_train_num"
   ]
  },
  {
   "cell_type": "markdown",
   "metadata": {},
   "source": [
    "**penjelasan** :\n",
    "\n",
    "Setelah memisahkan antara kolom numerik dan kategorikal, kita akan melanjutkan ke **feature selection**"
   ]
  },
  {
   "cell_type": "markdown",
   "metadata": {},
   "source": [
    "### **Feature Selection**"
   ]
  },
  {
   "cell_type": "markdown",
   "metadata": {},
   "source": [
    "Untuk uji korelasi antar data kategorikal, kita akan menggunakan uji korelasi **kendall**"
   ]
  },
  {
   "cell_type": "code",
   "execution_count": 60,
   "metadata": {},
   "outputs": [
    {
     "data": {
      "text/html": [
       "<div>\n",
       "<style scoped>\n",
       "    .dataframe tbody tr th:only-of-type {\n",
       "        vertical-align: middle;\n",
       "    }\n",
       "\n",
       "    .dataframe tbody tr th {\n",
       "        vertical-align: top;\n",
       "    }\n",
       "\n",
       "    .dataframe thead th {\n",
       "        text-align: right;\n",
       "    }\n",
       "</style>\n",
       "<table border=\"1\" class=\"dataframe\">\n",
       "  <thead>\n",
       "    <tr style=\"text-align: right;\">\n",
       "      <th></th>\n",
       "      <th>Column Name</th>\n",
       "      <th>Correlation Coefficient</th>\n",
       "      <th>P-value</th>\n",
       "      <th>Correlation</th>\n",
       "    </tr>\n",
       "  </thead>\n",
       "  <tbody>\n",
       "    <tr>\n",
       "      <th>0</th>\n",
       "      <td>Warehouse_block</td>\n",
       "      <td>0.007675</td>\n",
       "      <td>0.423555</td>\n",
       "      <td>Not Significant</td>\n",
       "    </tr>\n",
       "    <tr>\n",
       "      <th>1</th>\n",
       "      <td>Mode_of_Shipment</td>\n",
       "      <td>-0.000864</td>\n",
       "      <td>0.932988</td>\n",
       "      <td>Not Significant</td>\n",
       "    </tr>\n",
       "    <tr>\n",
       "      <th>2</th>\n",
       "      <td>Customer_rating</td>\n",
       "      <td>0.005893</td>\n",
       "      <td>0.536566</td>\n",
       "      <td>Not Significant</td>\n",
       "    </tr>\n",
       "    <tr>\n",
       "      <th>3</th>\n",
       "      <td>Product_importance</td>\n",
       "      <td>-0.020344</td>\n",
       "      <td>0.048703</td>\n",
       "      <td>Significant</td>\n",
       "    </tr>\n",
       "    <tr>\n",
       "      <th>4</th>\n",
       "      <td>Gender</td>\n",
       "      <td>0.006460</td>\n",
       "      <td>0.544579</td>\n",
       "      <td>Not Significant</td>\n",
       "    </tr>\n",
       "  </tbody>\n",
       "</table>\n",
       "</div>"
      ],
      "text/plain": [
       "          Column Name  Correlation Coefficient   P-value      Correlation\n",
       "0     Warehouse_block                 0.007675  0.423555  Not Significant\n",
       "1    Mode_of_Shipment                -0.000864  0.932988  Not Significant\n",
       "2     Customer_rating                 0.005893  0.536566  Not Significant\n",
       "3  Product_importance                -0.020344  0.048703      Significant\n",
       "4              Gender                 0.006460  0.544579  Not Significant"
      ]
     },
     "execution_count": 60,
     "metadata": {},
     "output_type": "execute_result"
    }
   ],
   "source": [
    "#Finding the correlation between categorical columns and Y Train using Kendall Tau's correlation\n",
    "p_values = []\n",
    "interpretation = []\n",
    "cols = []\n",
    "corr = []\n",
    "selected_cat_cols = []\n",
    "\n",
    "for col in X_train_cat.columns:\n",
    "  corr_coef, p_value = kendalltau(X_train_cat[col], y_train)\n",
    "\n",
    "  p_values.append(p_value)\n",
    "  cols.append(col)\n",
    "  corr.append(corr_coef)\n",
    "\n",
    "  if p_value < 0.05:\n",
    "    interpretation.append('Significant')\n",
    "    selected_cat_cols.append(col)\n",
    "  else :\n",
    "    interpretation.append('Not Significant')\n",
    "\n",
    "pd.DataFrame({'Column Name':cols,\n",
    "              'Correlation Coefficient' : corr,\n",
    "              'P-value':p_values,\n",
    "              'Correlation': interpretation })"
   ]
  },
  {
   "cell_type": "markdown",
   "metadata": {},
   "source": [
    "**penjelasan** :  \n",
    "didapat kolom yang memiliki korelasi yang significant adalah kolom **Product_impotance**"
   ]
  },
  {
   "cell_type": "markdown",
   "metadata": {},
   "source": [
    "---"
   ]
  },
  {
   "cell_type": "markdown",
   "metadata": {},
   "source": [
    "Untuk uji korelasi dengan data numerik, kita akan menggunakan uji korelasi **pearson dan spearman**. Kita akan menggunakan **korelasi Pearson** untuk kolom terdistribusi normal, dan **korelasi spearman** untuk kolom terdistribusi miring"
   ]
  },
  {
   "cell_type": "code",
   "execution_count": 61,
   "metadata": {},
   "outputs": [
    {
     "data": {
      "text/html": [
       "<div>\n",
       "<style scoped>\n",
       "    .dataframe tbody tr th:only-of-type {\n",
       "        vertical-align: middle;\n",
       "    }\n",
       "\n",
       "    .dataframe tbody tr th {\n",
       "        vertical-align: top;\n",
       "    }\n",
       "\n",
       "    .dataframe thead th {\n",
       "        text-align: right;\n",
       "    }\n",
       "</style>\n",
       "<table border=\"1\" class=\"dataframe\">\n",
       "  <thead>\n",
       "    <tr style=\"text-align: right;\">\n",
       "      <th></th>\n",
       "      <th>Column Name</th>\n",
       "      <th>Correlation Coefficient</th>\n",
       "      <th>P-value</th>\n",
       "      <th>Correlation</th>\n",
       "    </tr>\n",
       "  </thead>\n",
       "  <tbody>\n",
       "    <tr>\n",
       "      <th>0</th>\n",
       "      <td>Customer_care_calls</td>\n",
       "      <td>-0.068262</td>\n",
       "      <td>1.457528e-10</td>\n",
       "      <td>Significant</td>\n",
       "    </tr>\n",
       "    <tr>\n",
       "      <th>1</th>\n",
       "      <td>Cost_of_the_Product</td>\n",
       "      <td>-0.077425</td>\n",
       "      <td>3.525778e-13</td>\n",
       "      <td>Significant</td>\n",
       "    </tr>\n",
       "    <tr>\n",
       "      <th>2</th>\n",
       "      <td>Prior_purchases</td>\n",
       "      <td>-0.073431</td>\n",
       "      <td>5.333542e-12</td>\n",
       "      <td>Significant</td>\n",
       "    </tr>\n",
       "    <tr>\n",
       "      <th>3</th>\n",
       "      <td>Discount_offered</td>\n",
       "      <td>0.336459</td>\n",
       "      <td>8.021495e-232</td>\n",
       "      <td>Significant</td>\n",
       "    </tr>\n",
       "    <tr>\n",
       "      <th>4</th>\n",
       "      <td>Weight_in_gms</td>\n",
       "      <td>-0.266306</td>\n",
       "      <td>9.727169e-143</td>\n",
       "      <td>Significant</td>\n",
       "    </tr>\n",
       "  </tbody>\n",
       "</table>\n",
       "</div>"
      ],
      "text/plain": [
       "           Column Name  Correlation Coefficient        P-value  Correlation\n",
       "0  Customer_care_calls                -0.068262   1.457528e-10  Significant\n",
       "1  Cost_of_the_Product                -0.077425   3.525778e-13  Significant\n",
       "2      Prior_purchases                -0.073431   5.333542e-12  Significant\n",
       "3     Discount_offered                 0.336459  8.021495e-232  Significant\n",
       "4        Weight_in_gms                -0.266306  9.727169e-143  Significant"
      ]
     },
     "execution_count": 61,
     "metadata": {},
     "output_type": "execute_result"
    }
   ],
   "source": [
    "#Finding the correlation between numerical columns and Y Train using pearsonr and spearmanr correlation\n",
    "p_values = []\n",
    "interpretation = []\n",
    "cols = []\n",
    "corr = []\n",
    "selected_num_cols = []\n",
    "\n",
    "for col in X_train_num.columns:\n",
    "  if abs(X_train_num[col].skew()) < 0.5:                    \n",
    "    #For Normally Distributed Columns\n",
    "    corr_coef, p_value = pearsonr(X_train_num[col], y_train)\n",
    "\n",
    "    p_values.append(p_value)\n",
    "    cols.append(col)\n",
    "    corr.append(corr_coef)\n",
    "\n",
    "    if p_value < 0.05:\n",
    "      interpretation.append('Significant')\n",
    "      selected_num_cols.append(col)\n",
    "    else :\n",
    "      interpretation.append('Not Significant')\n",
    "  else:                                                     \n",
    "    #For Skewed Columns\n",
    "    corr_coef, p_value = spearmanr(X_train_num[col], y_train)\n",
    "\n",
    "    p_values.append(p_value)\n",
    "    cols.append(col)\n",
    "    corr.append(corr_coef)\n",
    "\n",
    "    if p_value < 0.05:\n",
    "      interpretation.append('Significant')\n",
    "      selected_num_cols.append(col)\n",
    "    else :\n",
    "      interpretation.append('Not Significant')\n",
    "\n",
    "pd.DataFrame({'Column Name':cols,\n",
    "              'Correlation Coefficient' : corr,\n",
    "              'P-value':p_values,\n",
    "              'Correlation': interpretation })"
   ]
  },
  {
   "cell_type": "markdown",
   "metadata": {},
   "source": [
    "**penjelasan** :\n",
    "di dapatkan bahwa kelima kolom tersebut memiliki korelasi yang significant\n",
    "`Customer_care_calls`,`Cost_of_the_Product`,`Prior_purchases`,`Discount_offered`,dan `Weight_in_gms`"
   ]
  },
  {
   "cell_type": "code",
   "execution_count": 62,
   "metadata": {},
   "outputs": [
    {
     "name": "stdout",
     "output_type": "stream",
     "text": [
      "['Product_importance']\n",
      "['Customer_care_calls', 'Cost_of_the_Product', 'Prior_purchases', 'Discount_offered', 'Weight_in_gms']\n"
     ]
    }
   ],
   "source": [
    "# Show selected columns based on the correlation test\n",
    "print(selected_cat_cols)\n",
    "print(selected_num_cols)"
   ]
  },
  {
   "cell_type": "markdown",
   "metadata": {},
   "source": [
    "**penjelasan** :\n",
    "\n",
    "daftar di atas menunjukkan fitur numerik dan kategorikal mana yang berkorelasi dengan kolom target"
   ]
  },
  {
   "cell_type": "code",
   "execution_count": 63,
   "metadata": {},
   "outputs": [
    {
     "data": {
      "text/html": [
       "<div>\n",
       "<style scoped>\n",
       "    .dataframe tbody tr th:only-of-type {\n",
       "        vertical-align: middle;\n",
       "    }\n",
       "\n",
       "    .dataframe tbody tr th {\n",
       "        vertical-align: top;\n",
       "    }\n",
       "\n",
       "    .dataframe thead th {\n",
       "        text-align: right;\n",
       "    }\n",
       "</style>\n",
       "<table border=\"1\" class=\"dataframe\">\n",
       "  <thead>\n",
       "    <tr style=\"text-align: right;\">\n",
       "      <th></th>\n",
       "      <th>Customer_care_calls</th>\n",
       "      <th>Cost_of_the_Product</th>\n",
       "      <th>Prior_purchases</th>\n",
       "      <th>Discount_offered</th>\n",
       "      <th>Weight_in_gms</th>\n",
       "    </tr>\n",
       "  </thead>\n",
       "  <tbody>\n",
       "    <tr>\n",
       "      <th>4126</th>\n",
       "      <td>4</td>\n",
       "      <td>249</td>\n",
       "      <td>3.0</td>\n",
       "      <td>5</td>\n",
       "      <td>5017</td>\n",
       "    </tr>\n",
       "    <tr>\n",
       "      <th>9145</th>\n",
       "      <td>6</td>\n",
       "      <td>279</td>\n",
       "      <td>4.0</td>\n",
       "      <td>7</td>\n",
       "      <td>1090</td>\n",
       "    </tr>\n",
       "    <tr>\n",
       "      <th>7852</th>\n",
       "      <td>3</td>\n",
       "      <td>150</td>\n",
       "      <td>3.0</td>\n",
       "      <td>6</td>\n",
       "      <td>4565</td>\n",
       "    </tr>\n",
       "    <tr>\n",
       "      <th>7754</th>\n",
       "      <td>7</td>\n",
       "      <td>285</td>\n",
       "      <td>4.0</td>\n",
       "      <td>6</td>\n",
       "      <td>1591</td>\n",
       "    </tr>\n",
       "    <tr>\n",
       "      <th>2</th>\n",
       "      <td>2</td>\n",
       "      <td>183</td>\n",
       "      <td>4.0</td>\n",
       "      <td>19</td>\n",
       "      <td>3374</td>\n",
       "    </tr>\n",
       "    <tr>\n",
       "      <th>...</th>\n",
       "      <td>...</td>\n",
       "      <td>...</td>\n",
       "      <td>...</td>\n",
       "      <td>...</td>\n",
       "      <td>...</td>\n",
       "    </tr>\n",
       "    <tr>\n",
       "      <th>2064</th>\n",
       "      <td>3</td>\n",
       "      <td>156</td>\n",
       "      <td>4.0</td>\n",
       "      <td>7</td>\n",
       "      <td>1492</td>\n",
       "    </tr>\n",
       "    <tr>\n",
       "      <th>10517</th>\n",
       "      <td>5</td>\n",
       "      <td>141</td>\n",
       "      <td>3.0</td>\n",
       "      <td>4</td>\n",
       "      <td>4534</td>\n",
       "    </tr>\n",
       "    <tr>\n",
       "      <th>7985</th>\n",
       "      <td>4</td>\n",
       "      <td>154</td>\n",
       "      <td>5.5</td>\n",
       "      <td>7</td>\n",
       "      <td>5317</td>\n",
       "    </tr>\n",
       "    <tr>\n",
       "      <th>2303</th>\n",
       "      <td>3</td>\n",
       "      <td>181</td>\n",
       "      <td>2.0</td>\n",
       "      <td>19</td>\n",
       "      <td>3236</td>\n",
       "    </tr>\n",
       "    <tr>\n",
       "      <th>3392</th>\n",
       "      <td>4</td>\n",
       "      <td>296</td>\n",
       "      <td>2.0</td>\n",
       "      <td>9</td>\n",
       "      <td>1523</td>\n",
       "    </tr>\n",
       "  </tbody>\n",
       "</table>\n",
       "<p>8799 rows × 5 columns</p>\n",
       "</div>"
      ],
      "text/plain": [
       "       Customer_care_calls  Cost_of_the_Product  Prior_purchases  \\\n",
       "4126                     4                  249              3.0   \n",
       "9145                     6                  279              4.0   \n",
       "7852                     3                  150              3.0   \n",
       "7754                     7                  285              4.0   \n",
       "2                        2                  183              4.0   \n",
       "...                    ...                  ...              ...   \n",
       "2064                     3                  156              4.0   \n",
       "10517                    5                  141              3.0   \n",
       "7985                     4                  154              5.5   \n",
       "2303                     3                  181              2.0   \n",
       "3392                     4                  296              2.0   \n",
       "\n",
       "       Discount_offered  Weight_in_gms  \n",
       "4126                  5           5017  \n",
       "9145                  7           1090  \n",
       "7852                  6           4565  \n",
       "7754                  6           1591  \n",
       "2                    19           3374  \n",
       "...                 ...            ...  \n",
       "2064                  7           1492  \n",
       "10517                 4           4534  \n",
       "7985                  7           5317  \n",
       "2303                 19           3236  \n",
       "3392                  9           1523  \n",
       "\n",
       "[8799 rows x 5 columns]"
      ]
     },
     "execution_count": 63,
     "metadata": {},
     "output_type": "execute_result"
    }
   ],
   "source": [
    "# Updating Numerical and Categorical Columns\n",
    "X_train_cat = X_train_cat[selected_cat_cols]\n",
    "X_train_num = X_train_num[selected_num_cols]\n",
    "\n",
    "X_test_cat = X_test_cat[selected_cat_cols]\n",
    "X_test_num = X_test_num[selected_num_cols]\n",
    "\n",
    "# Show first five data from the updated X_train\n",
    "X_train_num"
   ]
  },
  {
   "cell_type": "code",
   "execution_count": 64,
   "metadata": {},
   "outputs": [
    {
     "data": {
      "text/html": [
       "<div>\n",
       "<style scoped>\n",
       "    .dataframe tbody tr th:only-of-type {\n",
       "        vertical-align: middle;\n",
       "    }\n",
       "\n",
       "    .dataframe tbody tr th {\n",
       "        vertical-align: top;\n",
       "    }\n",
       "\n",
       "    .dataframe thead th {\n",
       "        text-align: right;\n",
       "    }\n",
       "</style>\n",
       "<table border=\"1\" class=\"dataframe\">\n",
       "  <thead>\n",
       "    <tr style=\"text-align: right;\">\n",
       "      <th></th>\n",
       "      <th>Product_importance</th>\n",
       "    </tr>\n",
       "  </thead>\n",
       "  <tbody>\n",
       "    <tr>\n",
       "      <th>4126</th>\n",
       "      <td>low</td>\n",
       "    </tr>\n",
       "    <tr>\n",
       "      <th>9145</th>\n",
       "      <td>low</td>\n",
       "    </tr>\n",
       "    <tr>\n",
       "      <th>7852</th>\n",
       "      <td>high</td>\n",
       "    </tr>\n",
       "    <tr>\n",
       "      <th>7754</th>\n",
       "      <td>low</td>\n",
       "    </tr>\n",
       "    <tr>\n",
       "      <th>2</th>\n",
       "      <td>low</td>\n",
       "    </tr>\n",
       "    <tr>\n",
       "      <th>...</th>\n",
       "      <td>...</td>\n",
       "    </tr>\n",
       "    <tr>\n",
       "      <th>2064</th>\n",
       "      <td>medium</td>\n",
       "    </tr>\n",
       "    <tr>\n",
       "      <th>10517</th>\n",
       "      <td>low</td>\n",
       "    </tr>\n",
       "    <tr>\n",
       "      <th>7985</th>\n",
       "      <td>high</td>\n",
       "    </tr>\n",
       "    <tr>\n",
       "      <th>2303</th>\n",
       "      <td>medium</td>\n",
       "    </tr>\n",
       "    <tr>\n",
       "      <th>3392</th>\n",
       "      <td>medium</td>\n",
       "    </tr>\n",
       "  </tbody>\n",
       "</table>\n",
       "<p>8799 rows × 1 columns</p>\n",
       "</div>"
      ],
      "text/plain": [
       "      Product_importance\n",
       "4126                 low\n",
       "9145                 low\n",
       "7852                high\n",
       "7754                 low\n",
       "2                    low\n",
       "...                  ...\n",
       "2064              medium\n",
       "10517                low\n",
       "7985                high\n",
       "2303              medium\n",
       "3392              medium\n",
       "\n",
       "[8799 rows x 1 columns]"
      ]
     },
     "execution_count": 64,
     "metadata": {},
     "output_type": "execute_result"
    }
   ],
   "source": [
    "X_train_cat"
   ]
  },
  {
   "cell_type": "markdown",
   "metadata": {},
   "source": [
    "**penjelasan** :\n",
    "\n",
    "memperbarui dan memisahkan X_train dan X_test untuk hanya menampilkan kolom dengan fitur numerik dan kategorikal yang berkorelasi dengan kolom target, setelah pemisahan kita dapat beralih ke penskalaan fitur dan pengkodean fitur"
   ]
  },
  {
   "cell_type": "markdown",
   "metadata": {},
   "source": [
    "---"
   ]
  },
  {
   "cell_type": "markdown",
   "metadata": {},
   "source": [
    "Untuk penskalaan fitur, kita akan menggunakan `MinMax Scaler` untuk menskalakan data ke rentang tertentu, yang dapat membantu menormalkan data dan memastikan bahwa semua fitur memiliki skala yang sama. `MinMax Scales` berguna ketika fitur memiliki unit atau rentang yang berbeda, karena dapat mencegah fitur dengan rentang yang lebih besar mendominasi proses pembelajaran"
   ]
  },
  {
   "cell_type": "markdown",
   "metadata": {},
   "source": [
    "---"
   ]
  },
  {
   "cell_type": "markdown",
   "metadata": {},
   "source": [
    "## 6. Pipeline"
   ]
  },
  {
   "cell_type": "markdown",
   "metadata": {},
   "source": [
    "Pipelines automate the machine learning workflow, allowing data to be transformed and correlated into a model in a fully automated manner. As we want to see which classification model works best for this dataset, **pipeline can save a significant amount of time and effort**. \n",
    "\n",
    "There are some `steps` that we will be using in all of our pipeline models, such as :\n",
    "\n",
    "1. For **`Feature Scaling`** in this pipeline, we are going to be using the `MinMax Scaler` to scale the data to a specific range, which can help normalize the data and ensure that all features have the same scale. `MinMax Scales` is useful when the features have different units or ranges, as it can prevent features with larger ranges from dominating the learning process\n",
    "\n",
    "2. For making a **`Pipeline with Multiple Variable`**, in our case a numerical and categorical data, we are going to be using a `Column Transformer` because it allow us to **use different preprocessing steps**\n",
    "\n",
    "3. For **`Model Definition`**, we are going to be using the `SVM`, `KNN`, `Decision Tree`, `Random Forest`, and `XGBoost` model to see which model is best to fit the data\n",
    "\n",
    "4. For **`Model Training`**, we are going to fit each model to the final features and balanced target\n",
    "\n",
    "5. For **`Model Evaluation`**, we are going to measure the `recall`, because we want to evaluate **the false negative**. We need to evaluate the false negative because if the model predict false negative, the patient with AIDS will not get any treatment\n",
    "\n",
    "6. For **`Cross Validation`**, we are using `10 folds` because we want to **reduce overfitting**"
   ]
  },
  {
   "cell_type": "markdown",
   "metadata": {},
   "source": [
    "### **SVM**"
   ]
  },
  {
   "cell_type": "code",
   "execution_count": 65,
   "metadata": {},
   "outputs": [
    {
     "name": "stdout",
     "output_type": "stream",
     "text": [
      "Train Recall Score Before Tuning : \n",
      " 0.4372492836676218 \n",
      "\n",
      "Test Recall Score Before Tuning: \n",
      " 0.4435240963855422 \n",
      "\n",
      "           Metric     Value\n",
      "0    Train Recall  0.437249\n",
      "1     Test Recall  0.443524\n",
      "2  CV Recall Mean  0.435728\n",
      "3   CV Recall Std  0.020225\n"
     ]
    }
   ],
   "source": [
    "# Define preprocessing pipelines\n",
    "num_pipeline = make_pipeline(MinMaxScaler())\n",
    "cat_pipeline = make_pipeline(OrdinalEncoder()) \n",
    "\n",
    "# Define preprocessing column transformer\n",
    "preprocessing_pipeline = ColumnTransformer([\n",
    "    ('num', num_pipeline, selected_num_cols),\n",
    "    ('cat', cat_pipeline, selected_cat_cols)\n",
    "])\n",
    "\n",
    "# Define model pipeline\n",
    "model_pipeline = make_pipeline(preprocessing_pipeline, SVC(kernel='rbf', probability=True, class_weight='balanced'))\n",
    "\n",
    "#Model Training\n",
    "model_pipeline.fit(X_train, y_train)\n",
    "\n",
    "# Calculate predictions for training and test sets\n",
    "y_train_pred = model_pipeline.predict(X_train)\n",
    "y_test_pred = model_pipeline.predict(X_test)\n",
    "\n",
    "# Generate classification reports for training and test sets\n",
    "print(f'Train Recall Score Before Tuning : \\n', recall_score(y_train, y_train_pred), '\\n')\n",
    "print(f'Test Recall Score Before Tuning: \\n', recall_score(y_test, y_test_pred), '\\n')\n",
    "\n",
    "# Cross Validation\n",
    "recall_train_cross_val = cross_val_score(model_pipeline,\n",
    "                                     X_train,\n",
    "                                     y_train,\n",
    "                                     cv=10,\n",
    "                                     scoring=\"recall\")\n",
    "\n",
    "# Create a dataframe to store the results\n",
    "svm_results_df = pd.DataFrame({\n",
    "    'Metric': ['Train Recall', 'Test Recall', 'CV Recall Mean', 'CV Recall Std'],\n",
    "    'Value': [recall_score(y_train, y_train_pred), recall_score(y_test, y_test_pred), recall_train_cross_val.mean(), recall_train_cross_val.std()]\n",
    "})\n",
    "\n",
    "print(svm_results_df)"
   ]
  },
  {
   "cell_type": "markdown",
   "metadata": {},
   "source": [
    "**description** :\n",
    "\n",
    "These results suggest that the `SVM model` is **performing poorly in terms of recall**, and there is significant variability in the model's performance across different subsets of the data"
   ]
  },
  {
   "cell_type": "markdown",
   "metadata": {},
   "source": [
    "### **KNN**"
   ]
  },
  {
   "cell_type": "code",
   "execution_count": 66,
   "metadata": {},
   "outputs": [
    {
     "name": "stdout",
     "output_type": "stream",
     "text": [
      "Train Recall Score Before Tuning : \n",
      " 0.7759312320916906 \n",
      "\n",
      "Test Recall Score Before Tuning: \n",
      " 0.677710843373494 \n",
      "\n",
      "           Metric     Value\n",
      "0    Train Recall  0.775931\n",
      "1     Test Recall  0.677711\n",
      "2  CV Recall Mean  0.661133\n",
      "3   CV Recall Std  0.019071\n"
     ]
    }
   ],
   "source": [
    "# Define preprocessing pipelines\n",
    "num_pipeline = make_pipeline(MinMaxScaler())\n",
    "cat_pipeline = make_pipeline(OrdinalEncoder()) \n",
    "\n",
    "# Define preprocessing column transformer\n",
    "preprocessing_pipeline = ColumnTransformer([\n",
    "    ('num', num_pipeline, selected_num_cols),\n",
    "    ('cat', cat_pipeline, selected_cat_cols)\n",
    "])\n",
    "\n",
    "# Define model pipeline\n",
    "model_pipeline = make_pipeline(preprocessing_pipeline, KNeighborsClassifier())\n",
    "\n",
    "#Model Training\n",
    "model_pipeline.fit(X_train, y_train)\n",
    "\n",
    "# Calculate predictions for training and test sets\n",
    "y_train_pred = model_pipeline.predict(X_train)\n",
    "y_test_pred = model_pipeline.predict(X_test)\n",
    "\n",
    "# Generate classification reports for training and test sets\n",
    "print(f'Train Recall Score Before Tuning : \\n', recall_score(y_train, y_train_pred), '\\n')\n",
    "print(f'Test Recall Score Before Tuning: \\n', recall_score(y_test, y_test_pred), '\\n')\n",
    "\n",
    "# Cross Validation\n",
    "recall_train_cross_val = cross_val_score(model_pipeline,\n",
    "                                     X_train,\n",
    "                                     y_train,\n",
    "                                     cv=10,\n",
    "                                     scoring=\"recall\")\n",
    "\n",
    "# Create a dataframe to store the results\n",
    "knn_results_df = pd.DataFrame({\n",
    "    'Metric': ['Train Recall', 'Test Recall', 'CV Recall Mean', 'CV Recall Std'],\n",
    "    'Value': [recall_score(y_train, y_train_pred), recall_score(y_test, y_test_pred), recall_train_cross_val.mean(), recall_train_cross_val.std()]\n",
    "})\n",
    "\n",
    "print(knn_results_df)"
   ]
  },
  {
   "cell_type": "markdown",
   "metadata": {},
   "source": [
    "**description** :\n",
    "\n",
    "These results suggest that the `KNN model` is **performing reasonably well in terms of recall**, with a relatively high recall score for the training set and a moderate recall score for the test set. However, there is still some variability in the model's performance across different subsets of the data, as indicated by the standard deviation of the cross-validation recall scores"
   ]
  },
  {
   "cell_type": "markdown",
   "metadata": {},
   "source": [
    "### **Decision Tree**"
   ]
  },
  {
   "cell_type": "code",
   "execution_count": 67,
   "metadata": {},
   "outputs": [
    {
     "name": "stdout",
     "output_type": "stream",
     "text": [
      "Train Recall Score Before Tuning : \n",
      " 1.0 \n",
      "\n",
      "Test Recall Score Before Tuning: \n",
      " 0.6987951807228916 \n",
      "\n",
      "           Metric     Value\n",
      "0    Train Recall  1.000000\n",
      "1     Test Recall  0.698795\n",
      "2  CV Recall Mean  0.709457\n",
      "3   CV Recall Std  0.010747\n"
     ]
    }
   ],
   "source": [
    "# Define preprocessing pipelines\n",
    "num_pipeline = make_pipeline(MinMaxScaler())\n",
    "cat_pipeline = make_pipeline(OrdinalEncoder()) \n",
    "\n",
    "# Define preprocessing column transformer\n",
    "preprocessing_pipeline = ColumnTransformer([\n",
    "    ('num', num_pipeline, selected_num_cols),\n",
    "    ('cat', cat_pipeline, selected_cat_cols)\n",
    "])\n",
    "\n",
    "# Define model pipeline\n",
    "model_pipeline = make_pipeline(preprocessing_pipeline, DecisionTreeClassifier())\n",
    "\n",
    "#Model Training\n",
    "model_pipeline.fit(X_train, y_train)\n",
    "\n",
    "# Calculate predictions for training and test sets\n",
    "y_train_pred = model_pipeline.predict(X_train)\n",
    "y_test_pred = model_pipeline.predict(X_test)\n",
    "\n",
    "# Generate classification reports for training and test sets\n",
    "print(f'Train Recall Score Before Tuning : \\n', recall_score(y_train, y_train_pred), '\\n')\n",
    "print(f'Test Recall Score Before Tuning: \\n', recall_score(y_test, y_test_pred), '\\n')\n",
    "\n",
    "# Cross Validation\n",
    "recall_train_cross_val = cross_val_score(model_pipeline,\n",
    "                                     X_train,\n",
    "                                     y_train,\n",
    "                                     cv=10,\n",
    "                                     scoring=\"recall\")\n",
    "\n",
    "\n",
    "# Create a dataframe to store the results\n",
    "dt_results_df = pd.DataFrame({\n",
    "    'Metric': ['Train Recall', 'Test Recall', 'CV Recall Mean', 'CV Recall Std'],\n",
    "    'Value': [recall_score(y_train, y_train_pred), recall_score(y_test, y_test_pred), recall_train_cross_val.mean(), recall_train_cross_val.std()]\n",
    "})\n",
    "\n",
    "print(dt_results_df)"
   ]
  },
  {
   "cell_type": "markdown",
   "metadata": {},
   "source": [
    "**description** :\n",
    "\n",
    "These results suggest that the `Decision Tree model` is performing well in terms of recall for the training set, but the recall score for the **test set is relatively low**. The cross-validation recall scores indicate that there is some variability in the model's performance across different subsets of the data. The decision tree model **may be overfitting to the training data** based on the train recall of 1, which can lead to poor generalization performance on unseen data"
   ]
  },
  {
   "cell_type": "markdown",
   "metadata": {},
   "source": [
    "### **Ensamble Learning**"
   ]
  },
  {
   "cell_type": "markdown",
   "metadata": {},
   "source": [
    "Ensemble learning is a machine learning technique that **combines the predictions of multiple models** to improve the overall performance of the system. This new model often more robust and more accurate, there are two types of ensamble learning model that we are going to use :\n",
    "\n",
    "- **Bagging** : Bagging is short for Bootstrap AGGregating. Bagging gets its name because it combines Bootstrapping and Aggregation to form one ensemble model. `Random Forest` is a popular example of a bagging algorithm\n",
    "- **Boosting** : In boosting, models are trained sequentially, with each model focusing on correcting the errors of the previous model. `XGBoost` is one of the boosting algorithm"
   ]
  },
  {
   "cell_type": "markdown",
   "metadata": {},
   "source": [
    "#### **Random Forest**"
   ]
  },
  {
   "cell_type": "code",
   "execution_count": 68,
   "metadata": {},
   "outputs": [
    {
     "name": "stdout",
     "output_type": "stream",
     "text": [
      "Train Recall Score Before Tuning : \n",
      " 1.0 \n",
      "\n",
      "Test Recall Score Before Tuning: \n",
      " 0.6724397590361446 \n",
      "\n",
      "           Metric     Value\n",
      "0    Train Recall  1.000000\n",
      "1     Test Recall  0.672440\n",
      "2  CV Recall Mean  0.653301\n",
      "3   CV Recall Std  0.021036\n"
     ]
    }
   ],
   "source": [
    "# Define preprocessing pipelines\n",
    "num_pipeline = make_pipeline(MinMaxScaler())\n",
    "cat_pipeline = make_pipeline(OrdinalEncoder()) \n",
    "\n",
    "# Define preprocessing column transformer\n",
    "preprocessing_pipeline = ColumnTransformer([\n",
    "    ('num', num_pipeline, selected_num_cols),\n",
    "    ('cat', cat_pipeline, selected_cat_cols)\n",
    "])\n",
    "\n",
    "# Define model pipeline\n",
    "model_pipeline = make_pipeline(preprocessing_pipeline, RandomForestClassifier())\n",
    "\n",
    "#Model Training\n",
    "model_pipeline.fit(X_train, y_train)\n",
    "\n",
    "# Calculate predictions for training and test sets\n",
    "y_train_pred = model_pipeline.predict(X_train)\n",
    "y_test_pred = model_pipeline.predict(X_test)\n",
    "\n",
    "# Generate classification reports for training and test sets\n",
    "print(f'Train Recall Score Before Tuning : \\n', recall_score(y_train, y_train_pred), '\\n')\n",
    "print(f'Test Recall Score Before Tuning: \\n', recall_score(y_test, y_test_pred), '\\n')\n",
    "\n",
    "# Cross Validation\n",
    "recall_train_cross_val = cross_val_score(model_pipeline,\n",
    "                                     X_train,\n",
    "                                     y_train,\n",
    "                                     cv=10,\n",
    "                                     scoring=\"recall\")\n",
    "\n",
    "\n",
    "# Create a dataframe to store the results\n",
    "rf_results_df = pd.DataFrame({\n",
    "    'Metric': ['Train Recall', 'Test Recall', 'CV Recall Mean', 'CV Recall Std'],\n",
    "    'Value': [recall_score(y_train, y_train_pred), recall_score(y_test, y_test_pred), recall_train_cross_val.mean(), recall_train_cross_val.std()]\n",
    "})\n",
    "\n",
    "print(rf_results_df)"
   ]
  },
  {
   "cell_type": "markdown",
   "metadata": {},
   "source": [
    "**description** :\n",
    "\n",
    "These results suggest that the `Random Forest model` is performing well in terms of recall for the training set, but the recall score for the **test set is relatively low**. However, the cross-validation recall scores indicate that the random forest model has better generalization performance compared to the decision tree model"
   ]
  },
  {
   "cell_type": "markdown",
   "metadata": {},
   "source": [
    "#### **XGBoost**"
   ]
  },
  {
   "cell_type": "code",
   "execution_count": 69,
   "metadata": {},
   "outputs": [
    {
     "name": "stdout",
     "output_type": "stream",
     "text": [
      "Train Recall Score Before Tuning : \n",
      " 0.8592168099331423 \n",
      "\n",
      "Test Recall Score Before Tuning: \n",
      " 0.6573795180722891 \n",
      "\n",
      "           Metric     Value\n",
      "0    Train Recall  0.859217\n",
      "1     Test Recall  0.657380\n",
      "2  CV Recall Mean  0.656545\n",
      "3   CV Recall Std  0.019298\n"
     ]
    }
   ],
   "source": [
    "# Define preprocessing pipelines\n",
    "num_pipeline = make_pipeline(MinMaxScaler())\n",
    "cat_pipeline = make_pipeline(OrdinalEncoder()) \n",
    "\n",
    "# Define preprocessing column transformer\n",
    "preprocessing_pipeline = ColumnTransformer([\n",
    "    ('num', num_pipeline, selected_num_cols),\n",
    "    ('cat', cat_pipeline, selected_cat_cols)\n",
    "])\n",
    "\n",
    "# Define model pipeline\n",
    "model_pipeline = make_pipeline(preprocessing_pipeline, xgb.XGBClassifier())\n",
    "\n",
    "#Model Training\n",
    "model_pipeline.fit(X_train, y_train)\n",
    "\n",
    "# Calculate predictions for training and test sets\n",
    "y_train_pred = model_pipeline.predict(X_train)\n",
    "y_test_pred = model_pipeline.predict(X_test)\n",
    "\n",
    "# Generate classification reports for training and test sets\n",
    "print(f'Train Recall Score Before Tuning : \\n', recall_score(y_train, y_train_pred), '\\n')\n",
    "print(f'Test Recall Score Before Tuning: \\n', recall_score(y_test, y_test_pred), '\\n')\n",
    "\n",
    "# Cross Validation\n",
    "recall_train_cross_val = cross_val_score(model_pipeline,\n",
    "                                     X_train,\n",
    "                                     y_train,\n",
    "                                     cv=10,\n",
    "                                     scoring=\"recall\")\n",
    "\n",
    "\n",
    "\n",
    "# Create a dataframe to store the results\n",
    "xgb_results_df = pd.DataFrame({\n",
    "    'Metric': ['Train Recall', 'Test Recall', 'CV Recall Mean', 'CV Recall Std'],\n",
    "    'Value': [recall_score(y_train, y_train_pred), recall_score(y_test, y_test_pred), recall_train_cross_val.mean(), recall_train_cross_val.std()]\n",
    "})\n",
    "\n",
    "print(xgb_results_df)"
   ]
  },
  {
   "cell_type": "markdown",
   "metadata": {},
   "source": [
    "**description** :\n",
    "\n",
    "These results suggest that the `XGBoost model` is performing well in terms of recall for the training set, but the recall score for the **test set is relatively low**. The cross-validation recall scores indicate that the XGBoost model has better generalization performance compared to the decision tree model, but its performance is slightly worse compared to the random forest model"
   ]
  },
  {
   "cell_type": "markdown",
   "metadata": {},
   "source": [
    "### **Pipeline Summary**\n",
    "\n",
    "| Model         | Recall train | Recall Test | Difference | CV Mean |\n",
    "|---------------|--------------|-------------|------------|---------|\n",
    "| SVM|0.43|0.44|0.01| 0.43|\n",
    "| KNN|0.77|0.67|0.10|0.66|\n",
    "| Decision Tree|1.00|0.70|0.30|0.66|\n",
    "| Random Forest|1.00|0.67|0.33|0.66|\n",
    "| XGBoost|0.85|0.65|0.20|0.66|"
   ]
  },
  {
   "cell_type": "markdown",
   "metadata": {},
   "source": [
    "**description** :\n",
    "\n",
    "Based on the recall scores presented in the table, the **XGBoost model has the highest recall score for the training set**, while the **KNN model has the highest recall score for the test set**. However, the difference in recall scores between the training and test sets for all models is significant, indicating that all models may be overfitting to the training data.\n",
    "\n",
    "The cross-validation recall scores suggest that the **Random Forest model has the best generalization performance**, followed closely by the XGBoost model. The KNN model has a higher cross-validation recall score compared to the Decision Tree model, but its performance is still worse than that of the Random Forest and XGBoost models.\n",
    "\n",
    "Therefore, based on the recall test scores presented in the table, the **KNN model is the best choice for classification**, followed closely by the XGBoost model. Additionally, hyperparameter tuning, feature engineering, and ensemble methods can be used to further improve the performance of these models."
   ]
  },
  {
   "cell_type": "markdown",
   "metadata": {},
   "source": [
    "## 7. Hyperparameter Tuning"
   ]
  },
  {
   "cell_type": "markdown",
   "metadata": {},
   "source": [
    "The **hyperparameters** chosen for the K-Nearest Neighbors (KNN) classifier are:\n",
    "\n",
    "1. n_neighbors: The number of nearest neighbors to consider when making a prediction. A range of values from 1 to 10 is explored, which is a reasonable range for many datasets.\n",
    "2. weights: The weight function used to assign weights to the neighbors. Two options are explored: uniform (all neighbors have equal weight) and distance (neighbors are weighted by their distance to the query point).\n",
    "3. algorithm: The algorithm used to compute the nearest neighbors. Four options are explored: auto (choose the best algorithm based on the dataset), ball_tree, kd_tree, and brute (a simple, brute-force algorithm).\n",
    "\n",
    "**Grid Search** is a hyperparameter tuning method that exhaustively searches through a grid of possible hyperparameter combinations to find the best one. Grid Search ensures that all possible hyperparameter combinations are explored, which can lead to better performance than random search or other methods."
   ]
  },
  {
   "cell_type": "code",
   "execution_count": 70,
   "metadata": {},
   "outputs": [
    {
     "name": "stdout",
     "output_type": "stream",
     "text": [
      "Best hyperparameters found:\n",
      "{'kneighborsclassifier__algorithm': 'auto', 'kneighborsclassifier__n_neighbors': 1, 'kneighborsclassifier__weights': 'uniform'} \n",
      "\n"
     ]
    },
    {
     "data": {
      "text/html": [
       "<div>\n",
       "<style scoped>\n",
       "    .dataframe tbody tr th:only-of-type {\n",
       "        vertical-align: middle;\n",
       "    }\n",
       "\n",
       "    .dataframe tbody tr th {\n",
       "        vertical-align: top;\n",
       "    }\n",
       "\n",
       "    .dataframe thead th {\n",
       "        text-align: right;\n",
       "    }\n",
       "</style>\n",
       "<table border=\"1\" class=\"dataframe\">\n",
       "  <thead>\n",
       "    <tr style=\"text-align: right;\">\n",
       "      <th></th>\n",
       "      <th>Metric</th>\n",
       "      <th>Value</th>\n",
       "    </tr>\n",
       "  </thead>\n",
       "  <tbody>\n",
       "    <tr>\n",
       "      <th>0</th>\n",
       "      <td>Train Recall Before Tuning</td>\n",
       "      <td>0.775931</td>\n",
       "    </tr>\n",
       "    <tr>\n",
       "      <th>1</th>\n",
       "      <td>Test Recall Before Tuning</td>\n",
       "      <td>0.677711</td>\n",
       "    </tr>\n",
       "    <tr>\n",
       "      <th>2</th>\n",
       "      <td>CV Recall Mean</td>\n",
       "      <td>0.661133</td>\n",
       "    </tr>\n",
       "    <tr>\n",
       "      <th>3</th>\n",
       "      <td>CV Recall Std</td>\n",
       "      <td>0.019071</td>\n",
       "    </tr>\n",
       "    <tr>\n",
       "      <th>4</th>\n",
       "      <td>Train Recall After Tuning</td>\n",
       "      <td>1.000000</td>\n",
       "    </tr>\n",
       "    <tr>\n",
       "      <th>5</th>\n",
       "      <td>Test Recall After Tuning</td>\n",
       "      <td>0.687500</td>\n",
       "    </tr>\n",
       "  </tbody>\n",
       "</table>\n",
       "</div>"
      ],
      "text/plain": [
       "                       Metric     Value\n",
       "0  Train Recall Before Tuning  0.775931\n",
       "1   Test Recall Before Tuning  0.677711\n",
       "2              CV Recall Mean  0.661133\n",
       "3               CV Recall Std  0.019071\n",
       "4   Train Recall After Tuning  1.000000\n",
       "5    Test Recall After Tuning  0.687500"
      ]
     },
     "metadata": {},
     "output_type": "display_data"
    }
   ],
   "source": [
    "# Define preprocessing pipelines\n",
    "num_pipeline = make_pipeline(MinMaxScaler())\n",
    "cat_pipeline = make_pipeline(OrdinalEncoder()) \n",
    "\n",
    "# Define preprocessing column transformer\n",
    "preprocessing_pipeline = ColumnTransformer([\n",
    "    ('num', num_pipeline, selected_num_cols),\n",
    "    ('cat', cat_pipeline, selected_cat_cols)\n",
    "])\n",
    "\n",
    "# Define model pipeline\n",
    "model_pipeline = make_pipeline(preprocessing_pipeline, KNeighborsClassifier())\n",
    "\n",
    "#Model Training\n",
    "model_pipeline.fit(X_train, y_train)\n",
    "\n",
    "# Calculate predictions for training and test sets\n",
    "y_train_pred = model_pipeline.predict(X_train)\n",
    "y_test_pred = model_pipeline.predict(X_test)\n",
    "\n",
    "# Cross Validation\n",
    "recall_train_cross_val = cross_val_score(model_pipeline,\n",
    "                                     X_train,\n",
    "                                     y_train,\n",
    "                                     cv=10,\n",
    "                                     scoring=\"recall\")\n",
    "\n",
    "\n",
    "# Define Hyperparameters\n",
    "param_grid = {\n",
    "    'kneighborsclassifier__n_neighbors': list(range(1, 11)),\n",
    "    'kneighborsclassifier__weights': ['uniform', 'distance'],\n",
    "    'kneighborsclassifier__algorithm': ['auto', 'ball_tree', 'kd_tree', 'brute']\n",
    "}\n",
    "\n",
    "\n",
    "# Perform grid search with cross-validation\n",
    "grid_search = GridSearchCV(model_pipeline, \n",
    "                           param_grid=param_grid, \n",
    "                           cv=10, \n",
    "                           scoring='recall')\n",
    "grid_search.fit(X_train, y_train)\n",
    "\n",
    "# Print best hyperparameters\n",
    "print(\"Best hyperparameters found:\")\n",
    "print(grid_search.best_params_, '\\n')\n",
    "\n",
    "# Evaluate the best model\n",
    "KNN_best_model = grid_search.best_estimator_\n",
    "\n",
    "# Check Performance Model against Train-set\n",
    "y_pred_train = KNN_best_model.predict(X_train)\n",
    "y_pred_test = KNN_best_model.predict(X_test)\n",
    "\n",
    "# Create a dataframe to store the results\n",
    "knn_results_tunning_df = pd.DataFrame({\n",
    "    'Metric': ['Train Recall Before Tuning', 'Test Recall Before Tuning', 'CV Recall Mean', 'CV Recall Std', 'Train Recall After Tuning', 'Test Recall After Tuning'],\n",
    "    'Value': [recall_score(y_train, y_train_pred), recall_score(y_test, y_test_pred), recall_train_cross_val.mean(), recall_train_cross_val.std(), recall_score(y_train, y_pred_train), recall_score(y_test, y_pred_test)]\n",
    "})\n",
    "\n",
    "display(knn_results_tunning_df)"
   ]
  },
  {
   "cell_type": "markdown",
   "metadata": {},
   "source": [
    "**description** :\n",
    "\n",
    "The results show that the `KNN classifier` with the best hyperparameters achieved a recall score of **0.77 on the training set** and **0.677 on the test set**. The **cross-validation recall score was 0.1**, with a standard deviation of 0.1, indicating that the model can maintain its performance on new, unseen data, even if it has been trained on a large and diverse dataset.\n",
    "\n",
    "Overall, the hyperparameter tuning for the `KNN classifier` resulted in a model with **improved recall performance** on the dataset.**description** :\n"
   ]
  },
  {
   "cell_type": "markdown",
   "metadata": {},
   "source": [
    "## 8. Model Saving"
   ]
  },
  {
   "cell_type": "code",
   "execution_count": 71,
   "metadata": {},
   "outputs": [
    {
     "data": {
      "text/plain": [
       "['knn_best_model_pipeline.joblib']"
      ]
     },
     "execution_count": 71,
     "metadata": {},
     "output_type": "execute_result"
    }
   ],
   "source": [
    "# Save the best model pipeline for model inference\n",
    "joblib.dump(KNN_best_model, 'knn_best_model_pipeline.joblib')"
   ]
  },
  {
   "cell_type": "markdown",
   "metadata": {},
   "source": [
    "**description** :\n",
    "\n",
    "- Save the best model pipeline using joblib, which can be loaded later for model inference\n",
    "- Save the preprocessing pipeline separately, which can be reused for future data preprocessing"
   ]
  }
 ],
 "metadata": {
  "kernelspec": {
   "display_name": "base",
   "language": "python",
   "name": "python3"
  },
  "language_info": {
   "codemirror_mode": {
    "name": "ipython",
    "version": 3
   },
   "file_extension": ".py",
   "mimetype": "text/x-python",
   "name": "python",
   "nbconvert_exporter": "python",
   "pygments_lexer": "ipython3",
   "version": "3.9.18"
  }
 },
 "nbformat": 4,
 "nbformat_minor": 2
}
